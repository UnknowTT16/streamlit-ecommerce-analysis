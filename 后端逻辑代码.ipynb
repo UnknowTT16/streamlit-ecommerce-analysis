{
 "cells": [
  {
   "cell_type": "markdown",
   "id": "0c3e3912-cc5e-497d-90a1-6392e4c18ce5",
   "metadata": {},
   "source": [
    "## 跨境电商数据分析项目代码逻辑部分"
   ]
  },
  {
   "cell_type": "code",
   "execution_count": 1,
   "id": "16100b11-9590-41f9-8bd9-8b4d90978521",
   "metadata": {},
   "outputs": [],
   "source": [
    "import pandas as pd\n",
    "import numpy as np \n",
    "from statsmodels.tsa.arima.model import ARIMA\n",
    "import matplotlib.pyplot as plt\n",
    "from sklearn.cluster import KMeans\n",
    "from sklearn.preprocessing import StandardScaler\n",
    "import seaborn as sns\n",
    "import plotly.graph_objects as go\n",
    "from deep_translator import GoogleTranslator\n",
    "from vaderSentiment.vaderSentiment import SentimentIntensityAnalyzer"
   ]
  },
  {
   "cell_type": "code",
   "execution_count": 2,
   "id": "055dff8a-f210-4e17-8764-7c5dd7af0b07",
   "metadata": {
    "scrolled": true
   },
   "outputs": [
    {
     "name": "stdout",
     "output_type": "stream",
     "text": [
      "Amazon总计: (106357, 24)\n",
      "品类实例: ['kurta' 'Top' 'Set' 'Western Dress' 'Ethnic Dress' 'Bottom' 'Saree'\n",
      " 'Blouse' 'Dupatta']\n",
      "总销售额: 68975070.0\n",
      "UNESCO总计: (788, 23)\n",
      "洽询国家: ['BJ,NG,TG' 'BO' 'DO' 'EC,PE' 'GN' 'LT' 'MA' 'PH' 'ES' 'UZ' 'EE' 'MX' 'CN'\n",
      " 'TO' 'VN' 'YE' 'CF' 'TR' 'RO' 'BR' 'CO' 'CR' 'IN' 'NI' 'KR' 'CN,MN'\n",
      " 'MW,MZ,ZM' 'CZ' 'AL' 'BT' 'IT' 'PE' 'UA' 'CU' 'JP' 'OM' 'HR' 'ID' 'BS'\n",
      " 'PY' 'SA' 'RS' 'KP' 'EG' 'DE' 'TN' 'GT' 'UA,EE' 'ZM' 'AZ'\n",
      " 'BN,ID,MY,SG,TH' 'CM' 'CI' 'TM,IR' 'CU,DO,HT,HN,VE' 'EG,SA'\n",
      " 'AF,AZ,IR,TR,TJ,TM,UZ' 'AD,FR' 'JM' 'AZ,KZ,KG,TJ,TR,TM,UZ' 'KZ' 'MY' 'NG'\n",
      " 'NO' 'AF,AZ,IN,IR,IQ,KZ,KG,UZ,PK,TJ,TR,TM,MN' 'CN,MY' 'PT,ES' 'IR' 'ML'\n",
      " 'MR' 'MN' 'AE' 'MD,RO' 'SN' 'BG' 'SG' 'CH' 'DK' 'TM' 'EC' 'AE,OM' 'BD'\n",
      " 'AL,AD,AT,HR,FR,GR,IT,LU,RO,ES' 'AR' 'AT,BE,DE,IT,LU,NL,CH' 'AZ,TR' 'MG'\n",
      " 'MT' 'ME' 'FI' 'CU,MX' 'FR,BE,LU,IT' 'PS' 'ID,MY' 'IR,TJ' 'PT'\n",
      " 'SA,DZ,BH,EG,IQ,JO,KW,LB,MR,MA,OM,PS,SD,TN,AE,YE' 'LK' 'SY' 'TH' 'PL,BY'\n",
      " 'VE' 'UG' 'DZ' 'BA' 'CL' 'GR' 'MK' 'KH' 'PK' 'AM' 'AT,CZ,DE,HU,SK'\n",
      " 'CY,GR' 'ET' 'FR' 'GE' 'IQ' 'KG' 'JO' nan 'MW' 'RO,MD' 'PA' 'SI' 'TJ'\n",
      " 'SE' 'BW' 'IE' 'LA' 'AR,UY' 'BE' 'CY' 'HU' 'LV' 'BO,CL,PE' 'HT' 'RU'\n",
      " 'BZ,GT,HN,NI' 'VU' 'EE,LV,LT' 'UZ,TJ' 'SK' 'MZ' 'BE,FR' 'ZW' 'LU' 'RW'\n",
      " 'AE,DZ,BH,EG,IQ,JO,KW,MR,MA,OM,PS,QA,SA,SD,TN,YE' 'AF,IR,TJ,UZ'\n",
      " 'ET,DJ,SO' 'AT,BA,HR,HU,IT,RO,SK,SI' 'MM' 'MK,TR' 'ES,IT'\n",
      " 'AE,OM,QA,SA,JO' 'KW' 'DZ,ML,NE' 'TL' 'SA,KW' 'PL' 'CH,FR'\n",
      " 'DK,FI,IS,NO,SE' 'AE,OM,SA'\n",
      " 'AE,AT,BE,HR,CZ,FR,DE,HU,IE,IT,KZ,KR,KG,MN,MA,NL,PK,PL,PT,QA,SA,SK,ES,SY'\n",
      " 'AO' 'AZ,IR,TR,UZ' 'CZ,FI,FR,DE,HU,ES' 'IR,AM'\n",
      " 'IQ,DZ,EG,MR,MA,PS,SA,SD,TN,YE' 'LB' 'DE,AT,FR,NO,CH' 'BI' 'MU' 'NE'\n",
      " 'OM,AE' 'KE' 'BY' 'BG,MK,MD,RO' 'AT' 'CV' 'KH,PH,KR,VN' 'CO,EC' 'MX,ES'\n",
      " 'AE,SA,OM,QA' 'KP,KR' 'AZ,IR' 'UY' 'GM,SN' 'SE,NO' 'TJ,IR' 'IR,AF'\n",
      " 'IR,SY' 'SA,OM,AE' 'AE,BH,EG,IQ,JO,KW,MR,MA,OM,PS,QA,SA,SD,TN,YE' 'GH'\n",
      " 'GD' 'AT,CZ,DE,LV,PL,ES' 'HR,CY,FR,GR,IT,SI,ES,CH,AD,AT,BE,IE,LU'\n",
      " 'ML,BF,CI,ID' 'IT,BE,HR,CY,FR' 'CY,HR,ES,GR,IT,MA,PT' 'DJ' 'FM' 'NL' 'BH'\n",
      " 'SD' 'CD,CG' 'DZ,MR,MA,TN' 'AZ,IR,TJ,TR,UZ' 'CO,CY,DE,KG,LU,NG,SI,TG'\n",
      " 'IT,FR' 'SC' 'KZ,KG,TR' 'MW,ZW' 'KZ,KG' 'AZ,IR,KZ,KG,TR' 'AZ,KZ,TR'\n",
      " 'AD,ES,FR' 'FR,IT,CH' 'SK,CZ' 'WS' 'CH,AT' 'CO,VE']\n"
     ]
    }
   ],
   "source": [
    "# 加载数据 (如果文件在当前目录，则无需写完整路径)\n",
    "# amazon_df = pd.read_csv(\"Amazon Sale Report.csv\") # 你原来的代码\n",
    "\n",
    "# 解决方法：在读取CSV时，使用dtype参数指定第23列的数据类型为str\n",
    "# 注意：列的索引是从0开始的，所以第23列的索引是22。你需要确认一下列名或者索引。\n",
    "# 如果不确定是哪一列，可以将所有列都设置为str，即 dtype=str\n",
    "try:\n",
    "    amazon_df = pd.read_csv(\"Amazon Sale Report.csv\", encoding='utf-8-sig', dtype={23: str})\n",
    "except UnicodeDecodeError:\n",
    "    amazon_df = pd.read_csv(\"Amazon Sale Report.csv\", encoding='ISO-8859-1', dtype={23: str})\n",
    "\n",
    "\n",
    "# 后面的代码保持不变\n",
    "unesco_df = pd.read_csv(\"ich001.csv\", encoding=\"utf-8-sig\")\n",
    "\n",
    "# 清理amazon数据\n",
    "amazon_df.dropna(subset=[\"Amount\", \"Category\", \"Date\"], inplace=True)\n",
    "amazon_df[\"Date\"] = pd.to_datetime(amazon_df[\"Date\"], format=\"%m-%d-%y\")\n",
    "amazon_df[\"Amount\"] = amazon_df[\"Amount\"].astype(float)\n",
    "amazon_df = amazon_df[amazon_df[\"Status\"].isin([\"Shipped\", \"Shipped - Delivered to Buyer\"])]\n",
    "\n",
    "# 输出检查\n",
    "print(\"Amazon总计:\", amazon_df.shape)\n",
    "print(\"品类实例:\", amazon_df[\"Category\"].unique())\n",
    "print(\"总销售额:\", amazon_df[\"Amount\"].sum())\n",
    "\n",
    "# 清理UNESCO数据\n",
    "unesco_df = unesco_df.dropna(subset=[\"Description EN\", \"Title EN\"])\n",
    "unesco_df[\"Inscription Year\"] = unesco_df[\"Inscription Year\"].astype(int)\n",
    "\n",
    "print(\"UNESCO总计:\", unesco_df.shape)\n",
    "print(\"洽询国家:\", unesco_df[\"Countries\"].unique())\n",
    "\n",
    "# 保存清洗后数据\n",
    "amazon_df.to_csv(\"cleaned_amazon.csv\", index=False)\n",
    "unesco_df.to_csv(\"cleaned_unesco.csv\", index=False)"
   ]
  },
  {
   "cell_type": "code",
   "execution_count": 3,
   "id": "516aa3d4-f8c4-42fe-8c30-b5d06d7c27ab",
   "metadata": {},
   "outputs": [
    {
     "name": "stdout",
     "output_type": "stream",
     "text": [
      "相关非遗数量: 346\n",
      "潜在非遗产品订单: 95022\n"
     ]
    }
   ],
   "source": [
    "# 过滤相关非遗\n",
    "keywords = ['craft', 'textile', 'embroidery', 'weaving', 'costume', 'dress', 'heritage product', 'handicraft']\n",
    "relevant_unesco = unesco_df[unesco_df['Description EN'].str.contains('|'.join(keywords), case=False, na=False)]\n",
    "print(\"相关非遗数量:\", len(relevant_unesco))\n",
    "relevant_unesco.to_csv('relevant_unesco.csv', index=False)\n",
    "\n",
    "# 示例匹配：假设Amazon 'kurta'对应印度纺织非遗\n",
    "non遗_products = amazon_df[amazon_df['Category'].str.contains('kurta|Set|Western Dress', case=False)]  # 调整关键词\n",
    "print(\"潜在非遗产品订单:\", len(non遗_products))\n",
    "\n",
    "# 手动或自动映射：创建字典匹配UNESCO标题到Amazon Category\n",
    "mapping = {\n",
    "    'Oral heritage of Gelede': ['costume', 'mask'],  # 链接到Amazon 'Set' if relevant\n",
    "    'Carnival of Oruro': ['embroidery', 'textile']\n",
    "}\n",
    "# 添加更多基于relevant_unesco['Title EN']"
   ]
  },
  {
   "cell_type": "code",
   "execution_count": 4,
   "id": "03532d76-5437-4c12-8e5b-2bfbf4a16dd6",
   "metadata": {},
   "outputs": [
    {
     "name": "stdout",
     "output_type": "stream",
     "text": [
      "正在翻译成 Description_DE...\n",
      "正在翻译成 Description_FR...\n",
      "\n",
      "翻译完成后的数据预览：\n"
     ]
    },
    {
     "data": {
      "text/html": [
       "<div>\n",
       "<style scoped>\n",
       "    .dataframe tbody tr th:only-of-type {\n",
       "        vertical-align: middle;\n",
       "    }\n",
       "\n",
       "    .dataframe tbody tr th {\n",
       "        vertical-align: top;\n",
       "    }\n",
       "\n",
       "    .dataframe thead th {\n",
       "        text-align: right;\n",
       "    }\n",
       "</style>\n",
       "<table border=\"1\" class=\"dataframe\">\n",
       "  <thead>\n",
       "    <tr style=\"text-align: right;\">\n",
       "      <th></th>\n",
       "      <th>UUID</th>\n",
       "      <th>ICH Public REF</th>\n",
       "      <th>Inscription Year</th>\n",
       "      <th>Title EN</th>\n",
       "      <th>Title FR</th>\n",
       "      <th>Description EN</th>\n",
       "      <th>Description FR</th>\n",
       "      <th>Type of element EN</th>\n",
       "      <th>Type of element FR</th>\n",
       "      <th>Type Acronym</th>\n",
       "      <th>...</th>\n",
       "      <th>Concepts Primary</th>\n",
       "      <th>Concepts primary names</th>\n",
       "      <th>Concepts secondary</th>\n",
       "      <th>Concept secondary names</th>\n",
       "      <th>World Heritage Sites</th>\n",
       "      <th>World Heritage</th>\n",
       "      <th>Images</th>\n",
       "      <th>Main image</th>\n",
       "      <th>Description_DE</th>\n",
       "      <th>Description_FR</th>\n",
       "    </tr>\n",
       "  </thead>\n",
       "  <tbody>\n",
       "    <tr>\n",
       "      <th>0</th>\n",
       "      <td>632472e6-2b8b-4ed6-a398-bf21e2ee05f8</td>\n",
       "      <td>2</td>\n",
       "      <td>2008</td>\n",
       "      <td>Oral heritage of Gelede</td>\n",
       "      <td>Le patrimoine oral Gèlèdé</td>\n",
       "      <td>The Gelede is performed by the Yoruba-Nago com...</td>\n",
       "      <td>Le Gèlèdé est pratiqué par la communauté Yorub...</td>\n",
       "      <td>Representative List</td>\n",
       "      <td>Liste représentative</td>\n",
       "      <td>RL</td>\n",
       "      <td>...</td>\n",
       "      <td>[{\"name_en\": \"Costumes\", \"name_fr\": \"Costumes\"...</td>\n",
       "      <td>Costumes,Masks,Oral tradition,Rituals</td>\n",
       "      <td>[{\"name_en\": \"Animism\", \"name_fr\": \"Animisme\",...</td>\n",
       "      <td>Animism,Craft workers,Dance,Humour (literary),...</td>\n",
       "      <td>[{\"ref\": \"1118\", \"name_en\": \"Osun-Osogbo Sacre...</td>\n",
       "      <td>True</td>\n",
       "      <td>[{\"photoID\": \"00371\", \"mandatoryID\": \"01\", \"or...</td>\n",
       "      <td>https://data.unesco.org/api/explore/v2.1/catal...</td>\n",
       "      <td>Der Gelede wird von der Yoruba-Nago-Community ...</td>\n",
       "      <td>La Gelede est réalisée par la communauté Yorub...</td>\n",
       "    </tr>\n",
       "    <tr>\n",
       "      <th>1</th>\n",
       "      <td>fc46100b-1765-426d-90c5-feaa43eef67c</td>\n",
       "      <td>3</td>\n",
       "      <td>2008</td>\n",
       "      <td>Carnival of Oruro</td>\n",
       "      <td>Le carnaval d’Oruro</td>\n",
       "      <td>The town of Oruro, situated at an altitude of ...</td>\n",
       "      <td>Ancien site de cérémonies précolombien situé à...</td>\n",
       "      <td>Representative List</td>\n",
       "      <td>Liste représentative</td>\n",
       "      <td>RL</td>\n",
       "      <td>...</td>\n",
       "      <td>[{\"name_en\": \"Carnival\", \"name_fr\": \"Carnaval\"...</td>\n",
       "      <td>Carnival,Procession,Religious practice</td>\n",
       "      <td>[{\"name_en\": \"Colonial history\", \"name_fr\": \"H...</td>\n",
       "      <td>Colonial history,Costumes,Dance,Drama,Embroide...</td>\n",
       "      <td>NaN</td>\n",
       "      <td>False</td>\n",
       "      <td>[{\"photoID\": \"10741\", \"mandatoryID\": \"01\", \"or...</td>\n",
       "      <td>https://data.unesco.org/api/explore/v2.1/catal...</td>\n",
       "      <td>Die Stadt Oruro befand sich in einer Höhe von ...</td>\n",
       "      <td>La ville d'Oruro, située à une altitude de 3 7...</td>\n",
       "    </tr>\n",
       "    <tr>\n",
       "      <th>2</th>\n",
       "      <td>b9f51e7a-2ead-43af-8164-18d6388a4283</td>\n",
       "      <td>6</td>\n",
       "      <td>2008</td>\n",
       "      <td>Cultural space of the Brotherhood of the Holy ...</td>\n",
       "      <td>L’espace culturel de la Fraternité du Saint-Es...</td>\n",
       "      <td>The Brotherhood of the Holy Spirit of the Cong...</td>\n",
       "      <td>La Fraternité du Saint-Esprit des congos de Vi...</td>\n",
       "      <td>Representative List</td>\n",
       "      <td>Liste représentative</td>\n",
       "      <td>RL</td>\n",
       "      <td>...</td>\n",
       "      <td>[{\"name_en\": \"Cultural space\", \"name_fr\": \"Esp...</td>\n",
       "      <td>Cultural space,Percussion instruments,Religiou...</td>\n",
       "      <td>[{\"name_en\": \"Colonial history\", \"name_fr\": \"H...</td>\n",
       "      <td>Colonial history,Dance,Feasts,Fraternity,Funer...</td>\n",
       "      <td>NaN</td>\n",
       "      <td>False</td>\n",
       "      <td>[{\"photoID\": \"00034\", \"mandatoryID\": \"01\", \"or...</td>\n",
       "      <td>https://data.unesco.org/api/explore/v2.1/catal...</td>\n",
       "      <td>Die Bruderschaft des Heiligen Geistes der Cong...</td>\n",
       "      <td>La confrérie du Saint-Esprit des congais de Vi...</td>\n",
       "    </tr>\n",
       "    <tr>\n",
       "      <th>3</th>\n",
       "      <td>b3cd474e-e25c-43e9-807c-bde04425a3e6</td>\n",
       "      <td>7</td>\n",
       "      <td>2008</td>\n",
       "      <td>Oral heritage and cultural manifestations of t...</td>\n",
       "      <td>Le patrimoine oral et les manifestations cultu...</td>\n",
       "      <td>The Zápara people live in a part of the Amazon...</td>\n",
       "      <td>Les Zápara vivent dans une partie de la jungle...</td>\n",
       "      <td>Representative List</td>\n",
       "      <td>Liste représentative</td>\n",
       "      <td>RL</td>\n",
       "      <td>...</td>\n",
       "      <td>[{\"name_en\": \"Cultural space\", \"name_fr\": \"Esp...</td>\n",
       "      <td>Cultural space,Oral tradition</td>\n",
       "      <td>[{\"name_en\": \"Colonial history\", \"name_fr\": \"H...</td>\n",
       "      <td>Colonial history,Epidemics,Local languages,Myt...</td>\n",
       "      <td>NaN</td>\n",
       "      <td>False</td>\n",
       "      <td>[{\"photoID\": \"00551\", \"mandatoryID\": \"01\", \"or...</td>\n",
       "      <td>https://data.unesco.org/api/explore/v2.1/catal...</td>\n",
       "      <td>Die Zápara -Leute leben in einem Teil des Amaz...</td>\n",
       "      <td>Les gens de Zápara vivent dans une partie de l...</td>\n",
       "    </tr>\n",
       "    <tr>\n",
       "      <th>4</th>\n",
       "      <td>fec3abfb-8766-4410-a6ac-b2a90d2a9c3a</td>\n",
       "      <td>9</td>\n",
       "      <td>2008</td>\n",
       "      <td>Cultural space of Sosso-Bala</td>\n",
       "      <td>L’espace culturel du Sosso-Bala</td>\n",
       "      <td>The sacred balafon instrument, known as the So...</td>\n",
       "      <td>Le balafon sacré, appelé Sosso-Bala, est consi...</td>\n",
       "      <td>Representative List</td>\n",
       "      <td>Liste représentative</td>\n",
       "      <td>RL</td>\n",
       "      <td>...</td>\n",
       "      <td>[{\"name_en\": \"Instrumental music\", \"name_fr\": ...</td>\n",
       "      <td>Instrumental music,Oral tradition,Percussion i...</td>\n",
       "      <td>[{\"name_en\": \"Craft workers\", \"name_fr\": \"Arti...</td>\n",
       "      <td>Craft workers,Cultural space,Epic poetry,Festi...</td>\n",
       "      <td>NaN</td>\n",
       "      <td>False</td>\n",
       "      <td>[{\"photoID\": \"00041\", \"mandatoryID\": \"01\", \"or...</td>\n",
       "      <td>https://data.unesco.org/api/explore/v2.1/catal...</td>\n",
       "      <td>Das heilige Balafon-Instrument, bekannt als So...</td>\n",
       "      <td>L'instrument sacré de Balafon, connu sous le n...</td>\n",
       "    </tr>\n",
       "  </tbody>\n",
       "</table>\n",
       "<p>5 rows × 25 columns</p>\n",
       "</div>"
      ],
      "text/plain": [
       "                                   UUID  ICH Public REF  Inscription Year  \\\n",
       "0  632472e6-2b8b-4ed6-a398-bf21e2ee05f8               2              2008   \n",
       "1  fc46100b-1765-426d-90c5-feaa43eef67c               3              2008   \n",
       "2  b9f51e7a-2ead-43af-8164-18d6388a4283               6              2008   \n",
       "3  b3cd474e-e25c-43e9-807c-bde04425a3e6               7              2008   \n",
       "4  fec3abfb-8766-4410-a6ac-b2a90d2a9c3a               9              2008   \n",
       "\n",
       "                                            Title EN  \\\n",
       "0                            Oral heritage of Gelede   \n",
       "1                                  Carnival of Oruro   \n",
       "2  Cultural space of the Brotherhood of the Holy ...   \n",
       "3  Oral heritage and cultural manifestations of t...   \n",
       "4                       Cultural space of Sosso-Bala   \n",
       "\n",
       "                                            Title FR  \\\n",
       "0                          Le patrimoine oral Gèlèdé   \n",
       "1                                Le carnaval d’Oruro   \n",
       "2  L’espace culturel de la Fraternité du Saint-Es...   \n",
       "3  Le patrimoine oral et les manifestations cultu...   \n",
       "4                    L’espace culturel du Sosso-Bala   \n",
       "\n",
       "                                      Description EN  \\\n",
       "0  The Gelede is performed by the Yoruba-Nago com...   \n",
       "1  The town of Oruro, situated at an altitude of ...   \n",
       "2  The Brotherhood of the Holy Spirit of the Cong...   \n",
       "3  The Zápara people live in a part of the Amazon...   \n",
       "4  The sacred balafon instrument, known as the So...   \n",
       "\n",
       "                                      Description FR   Type of element EN  \\\n",
       "0  Le Gèlèdé est pratiqué par la communauté Yorub...  Representative List   \n",
       "1  Ancien site de cérémonies précolombien situé à...  Representative List   \n",
       "2  La Fraternité du Saint-Esprit des congos de Vi...  Representative List   \n",
       "3  Les Zápara vivent dans une partie de la jungle...  Representative List   \n",
       "4  Le balafon sacré, appelé Sosso-Bala, est consi...  Representative List   \n",
       "\n",
       "     Type of element FR Type Acronym  ...  \\\n",
       "0  Liste représentative           RL  ...   \n",
       "1  Liste représentative           RL  ...   \n",
       "2  Liste représentative           RL  ...   \n",
       "3  Liste représentative           RL  ...   \n",
       "4  Liste représentative           RL  ...   \n",
       "\n",
       "                                    Concepts Primary  \\\n",
       "0  [{\"name_en\": \"Costumes\", \"name_fr\": \"Costumes\"...   \n",
       "1  [{\"name_en\": \"Carnival\", \"name_fr\": \"Carnaval\"...   \n",
       "2  [{\"name_en\": \"Cultural space\", \"name_fr\": \"Esp...   \n",
       "3  [{\"name_en\": \"Cultural space\", \"name_fr\": \"Esp...   \n",
       "4  [{\"name_en\": \"Instrumental music\", \"name_fr\": ...   \n",
       "\n",
       "                              Concepts primary names  \\\n",
       "0              Costumes,Masks,Oral tradition,Rituals   \n",
       "1             Carnival,Procession,Religious practice   \n",
       "2  Cultural space,Percussion instruments,Religiou...   \n",
       "3                      Cultural space,Oral tradition   \n",
       "4  Instrumental music,Oral tradition,Percussion i...   \n",
       "\n",
       "                                  Concepts secondary  \\\n",
       "0  [{\"name_en\": \"Animism\", \"name_fr\": \"Animisme\",...   \n",
       "1  [{\"name_en\": \"Colonial history\", \"name_fr\": \"H...   \n",
       "2  [{\"name_en\": \"Colonial history\", \"name_fr\": \"H...   \n",
       "3  [{\"name_en\": \"Colonial history\", \"name_fr\": \"H...   \n",
       "4  [{\"name_en\": \"Craft workers\", \"name_fr\": \"Arti...   \n",
       "\n",
       "                             Concept secondary names  \\\n",
       "0  Animism,Craft workers,Dance,Humour (literary),...   \n",
       "1  Colonial history,Costumes,Dance,Drama,Embroide...   \n",
       "2  Colonial history,Dance,Feasts,Fraternity,Funer...   \n",
       "3  Colonial history,Epidemics,Local languages,Myt...   \n",
       "4  Craft workers,Cultural space,Epic poetry,Festi...   \n",
       "\n",
       "                                World Heritage Sites World Heritage  \\\n",
       "0  [{\"ref\": \"1118\", \"name_en\": \"Osun-Osogbo Sacre...           True   \n",
       "1                                                NaN          False   \n",
       "2                                                NaN          False   \n",
       "3                                                NaN          False   \n",
       "4                                                NaN          False   \n",
       "\n",
       "                                              Images  \\\n",
       "0  [{\"photoID\": \"00371\", \"mandatoryID\": \"01\", \"or...   \n",
       "1  [{\"photoID\": \"10741\", \"mandatoryID\": \"01\", \"or...   \n",
       "2  [{\"photoID\": \"00034\", \"mandatoryID\": \"01\", \"or...   \n",
       "3  [{\"photoID\": \"00551\", \"mandatoryID\": \"01\", \"or...   \n",
       "4  [{\"photoID\": \"00041\", \"mandatoryID\": \"01\", \"or...   \n",
       "\n",
       "                                          Main image  \\\n",
       "0  https://data.unesco.org/api/explore/v2.1/catal...   \n",
       "1  https://data.unesco.org/api/explore/v2.1/catal...   \n",
       "2  https://data.unesco.org/api/explore/v2.1/catal...   \n",
       "3  https://data.unesco.org/api/explore/v2.1/catal...   \n",
       "4  https://data.unesco.org/api/explore/v2.1/catal...   \n",
       "\n",
       "                                      Description_DE  \\\n",
       "0  Der Gelede wird von der Yoruba-Nago-Community ...   \n",
       "1  Die Stadt Oruro befand sich in einer Höhe von ...   \n",
       "2  Die Bruderschaft des Heiligen Geistes der Cong...   \n",
       "3  Die Zápara -Leute leben in einem Teil des Amaz...   \n",
       "4  Das heilige Balafon-Instrument, bekannt als So...   \n",
       "\n",
       "                                      Description_FR  \n",
       "0  La Gelede est réalisée par la communauté Yorub...  \n",
       "1  La ville d'Oruro, située à une altitude de 3 7...  \n",
       "2  La confrérie du Saint-Esprit des congais de Vi...  \n",
       "3  Les gens de Zápara vivent dans une partie de l...  \n",
       "4  L'instrument sacré de Balafon, connu sous le n...  \n",
       "\n",
       "[5 rows x 25 columns]"
      ]
     },
     "metadata": {},
     "output_type": "display_data"
    }
   ],
   "source": [
    "# 定义一个翻译函数，增加错误处理\n",
    "def translate_text(text, target_lang):\n",
    "    if not isinstance(text, str) or not text.strip():\n",
    "        return \"\"\n",
    "    try:\n",
    "        return GoogleTranslator(source='auto', target=target_lang).translate(text)\n",
    "    except Exception as e:\n",
    "        print(f\"翻译时出错: {e}\")\n",
    "        return text\n",
    "\n",
    "# 选择目标语言并进行翻译 (以德语'de'和法语'fr'为例)\n",
    "target_languages = ['de', 'fr']\n",
    "unesco_translated_df = unesco_df.head(5).copy() # 注意：为防止API调用过多，仅对前5行进行演示\n",
    "\n",
    "for lang in target_languages:\n",
    "    column_name = f'Description_{lang.upper()}'\n",
    "    print(f\"正在翻译成 {column_name}...\")\n",
    "    unesco_translated_df[column_name] = unesco_translated_df['Description EN'].apply(lambda x: translate_text(x, lang))\n",
    "\n",
    "print(\"\\n翻译完成后的数据预览：\")\n",
    "display(unesco_translated_df)\n"
   ]
  },
  {
   "cell_type": "code",
   "execution_count": 6,
   "id": "fe10d7ca-3288-4c15-b0fe-e65724fb0fe6",
   "metadata": {},
   "outputs": [
    {
     "data": {
      "application/vnd.plotly.v1+json": {
       "config": {
        "plotlyServerURL": "https://plot.ly"
       },
       "data": [
        {
         "fill": "tozeroy",
         "fillcolor": "rgba(65, 105, 225, 0.2)",
         "line": {
          "color": "royalblue",
          "width": 2
         },
         "mode": "lines",
         "name": "历史销售额",
         "type": "scatter",
         "x": [
          "2022-03-31T00:00:00",
          "2022-04-01T00:00:00",
          "2022-04-02T00:00:00",
          "2022-04-03T00:00:00",
          "2022-04-04T00:00:00",
          "2022-04-05T00:00:00",
          "2022-04-06T00:00:00",
          "2022-04-07T00:00:00",
          "2022-04-08T00:00:00",
          "2022-04-09T00:00:00",
          "2022-04-10T00:00:00",
          "2022-04-11T00:00:00",
          "2022-04-12T00:00:00",
          "2022-04-13T00:00:00",
          "2022-04-14T00:00:00",
          "2022-04-15T00:00:00",
          "2022-04-16T00:00:00",
          "2022-04-17T00:00:00",
          "2022-04-18T00:00:00",
          "2022-04-19T00:00:00",
          "2022-04-20T00:00:00",
          "2022-04-21T00:00:00",
          "2022-04-22T00:00:00",
          "2022-04-23T00:00:00",
          "2022-04-24T00:00:00",
          "2022-04-25T00:00:00",
          "2022-04-26T00:00:00",
          "2022-04-27T00:00:00",
          "2022-04-28T00:00:00",
          "2022-04-29T00:00:00",
          "2022-04-30T00:00:00",
          "2022-05-01T00:00:00",
          "2022-05-02T00:00:00",
          "2022-05-03T00:00:00",
          "2022-05-04T00:00:00",
          "2022-05-05T00:00:00",
          "2022-05-06T00:00:00",
          "2022-05-07T00:00:00",
          "2022-05-08T00:00:00",
          "2022-05-09T00:00:00",
          "2022-05-10T00:00:00",
          "2022-05-11T00:00:00",
          "2022-05-12T00:00:00",
          "2022-05-13T00:00:00",
          "2022-05-14T00:00:00",
          "2022-05-15T00:00:00",
          "2022-05-16T00:00:00",
          "2022-05-17T00:00:00",
          "2022-05-18T00:00:00",
          "2022-05-19T00:00:00",
          "2022-05-20T00:00:00",
          "2022-05-21T00:00:00",
          "2022-05-22T00:00:00",
          "2022-05-23T00:00:00",
          "2022-05-24T00:00:00",
          "2022-05-25T00:00:00",
          "2022-05-26T00:00:00",
          "2022-05-27T00:00:00",
          "2022-05-28T00:00:00",
          "2022-05-29T00:00:00",
          "2022-05-30T00:00:00",
          "2022-05-31T00:00:00",
          "2022-06-01T00:00:00",
          "2022-06-02T00:00:00",
          "2022-06-03T00:00:00",
          "2022-06-04T00:00:00",
          "2022-06-05T00:00:00",
          "2022-06-06T00:00:00",
          "2022-06-07T00:00:00",
          "2022-06-08T00:00:00",
          "2022-06-09T00:00:00",
          "2022-06-10T00:00:00",
          "2022-06-11T00:00:00",
          "2022-06-12T00:00:00",
          "2022-06-13T00:00:00",
          "2022-06-14T00:00:00",
          "2022-06-15T00:00:00",
          "2022-06-16T00:00:00",
          "2022-06-17T00:00:00",
          "2022-06-18T00:00:00",
          "2022-06-19T00:00:00",
          "2022-06-20T00:00:00",
          "2022-06-21T00:00:00",
          "2022-06-22T00:00:00",
          "2022-06-23T00:00:00",
          "2022-06-24T00:00:00",
          "2022-06-25T00:00:00",
          "2022-06-26T00:00:00",
          "2022-06-27T00:00:00",
          "2022-06-28T00:00:00",
          "2022-06-29T00:00:00"
         ],
         "y": [
          94183,
          767000,
          804455,
          911517,
          802266,
          860601,
          794353,
          804152,
          907514,
          858859,
          964543,
          833704,
          771715,
          872149,
          1008387,
          909660,
          879483,
          821728,
          790274,
          863584,
          988163,
          870972,
          867165,
          957244,
          974271,
          843736,
          810294,
          736721,
          751877,
          751385,
          887163,
          992523,
          1065508,
          1076533,
          1094989,
          805545,
          833418,
          819961,
          788436,
          713374,
          628925,
          650918,
          620424,
          627825,
          669930,
          771065,
          658402,
          654705,
          702897,
          696643,
          625718,
          614413,
          699548,
          680660,
          694870,
          740534,
          698204,
          747304,
          784103,
          746840,
          743741,
          814250,
          835919,
          800693,
          661839,
          808613,
          886804,
          861034,
          867068,
          847229,
          851832,
          719269,
          773769,
          870538,
          773319,
          805249,
          703028,
          716837,
          665055,
          648351,
          627372,
          667063,
          684268,
          686159,
          520139,
          481957,
          469255,
          513518,
          447699,
          444275,
          115595
         ]
        },
        {
         "fill": "tozeroy",
         "fillcolor": "rgba(255, 140, 0, 0.2)",
         "line": {
          "color": "darkorange",
          "dash": "dash",
          "width": 2
         },
         "mode": "lines",
         "name": "预测销售额",
         "type": "scatter",
         "x": [
          "2022-06-30T00:00:00",
          "2022-07-01T00:00:00",
          "2022-07-02T00:00:00",
          "2022-07-03T00:00:00",
          "2022-07-04T00:00:00",
          "2022-07-05T00:00:00",
          "2022-07-06T00:00:00",
          "2022-07-07T00:00:00",
          "2022-07-08T00:00:00",
          "2022-07-09T00:00:00",
          "2022-07-10T00:00:00",
          "2022-07-11T00:00:00",
          "2022-07-12T00:00:00",
          "2022-07-13T00:00:00",
          "2022-07-14T00:00:00",
          "2022-07-15T00:00:00",
          "2022-07-16T00:00:00",
          "2022-07-17T00:00:00",
          "2022-07-18T00:00:00",
          "2022-07-19T00:00:00",
          "2022-07-20T00:00:00",
          "2022-07-21T00:00:00",
          "2022-07-22T00:00:00",
          "2022-07-23T00:00:00",
          "2022-07-24T00:00:00",
          "2022-07-25T00:00:00",
          "2022-07-26T00:00:00",
          "2022-07-27T00:00:00",
          "2022-07-28T00:00:00",
          "2022-07-29T00:00:00"
         ],
         "y": [
          117666.82236155258,
          101155.26497203673,
          184732.2255866569,
          165341.69259608944,
          216125.861114507,
          197860.137173364,
          210642.69060958072,
          186170.378099433,
          195658.05532804088,
          184300.85410929198,
          192972.87066916694,
          187487.299238574,
          194091.04021698397,
          190201.77224856784,
          193600.00635826951,
          190578.73683415525,
          192619.95820803588,
          190683.11613570587,
          192102.53381600292,
          190978.03526212354,
          191960.99425589063,
          191240.2823303214,
          191852.9577936335,
          191366.0478447658,
          191745.83567122585,
          191426.23956200923,
          191673.4783980918,
          191472.30262054582,
          191635.35559045774,
          191507.13566291868
         ]
        }
       ],
       "layout": {
        "legend": {
         "title": {
          "text": "图例"
         }
        },
        "template": {
         "data": {
          "bar": [
           {
            "error_x": {
             "color": "#2a3f5f"
            },
            "error_y": {
             "color": "#2a3f5f"
            },
            "marker": {
             "line": {
              "color": "white",
              "width": 0.5
             },
             "pattern": {
              "fillmode": "overlay",
              "size": 10,
              "solidity": 0.2
             }
            },
            "type": "bar"
           }
          ],
          "barpolar": [
           {
            "marker": {
             "line": {
              "color": "white",
              "width": 0.5
             },
             "pattern": {
              "fillmode": "overlay",
              "size": 10,
              "solidity": 0.2
             }
            },
            "type": "barpolar"
           }
          ],
          "carpet": [
           {
            "aaxis": {
             "endlinecolor": "#2a3f5f",
             "gridcolor": "#C8D4E3",
             "linecolor": "#C8D4E3",
             "minorgridcolor": "#C8D4E3",
             "startlinecolor": "#2a3f5f"
            },
            "baxis": {
             "endlinecolor": "#2a3f5f",
             "gridcolor": "#C8D4E3",
             "linecolor": "#C8D4E3",
             "minorgridcolor": "#C8D4E3",
             "startlinecolor": "#2a3f5f"
            },
            "type": "carpet"
           }
          ],
          "choropleth": [
           {
            "colorbar": {
             "outlinewidth": 0,
             "ticks": ""
            },
            "type": "choropleth"
           }
          ],
          "contour": [
           {
            "colorbar": {
             "outlinewidth": 0,
             "ticks": ""
            },
            "colorscale": [
             [
              0,
              "#0d0887"
             ],
             [
              0.1111111111111111,
              "#46039f"
             ],
             [
              0.2222222222222222,
              "#7201a8"
             ],
             [
              0.3333333333333333,
              "#9c179e"
             ],
             [
              0.4444444444444444,
              "#bd3786"
             ],
             [
              0.5555555555555556,
              "#d8576b"
             ],
             [
              0.6666666666666666,
              "#ed7953"
             ],
             [
              0.7777777777777778,
              "#fb9f3a"
             ],
             [
              0.8888888888888888,
              "#fdca26"
             ],
             [
              1,
              "#f0f921"
             ]
            ],
            "type": "contour"
           }
          ],
          "contourcarpet": [
           {
            "colorbar": {
             "outlinewidth": 0,
             "ticks": ""
            },
            "type": "contourcarpet"
           }
          ],
          "heatmap": [
           {
            "colorbar": {
             "outlinewidth": 0,
             "ticks": ""
            },
            "colorscale": [
             [
              0,
              "#0d0887"
             ],
             [
              0.1111111111111111,
              "#46039f"
             ],
             [
              0.2222222222222222,
              "#7201a8"
             ],
             [
              0.3333333333333333,
              "#9c179e"
             ],
             [
              0.4444444444444444,
              "#bd3786"
             ],
             [
              0.5555555555555556,
              "#d8576b"
             ],
             [
              0.6666666666666666,
              "#ed7953"
             ],
             [
              0.7777777777777778,
              "#fb9f3a"
             ],
             [
              0.8888888888888888,
              "#fdca26"
             ],
             [
              1,
              "#f0f921"
             ]
            ],
            "type": "heatmap"
           }
          ],
          "heatmapgl": [
           {
            "colorbar": {
             "outlinewidth": 0,
             "ticks": ""
            },
            "colorscale": [
             [
              0,
              "#0d0887"
             ],
             [
              0.1111111111111111,
              "#46039f"
             ],
             [
              0.2222222222222222,
              "#7201a8"
             ],
             [
              0.3333333333333333,
              "#9c179e"
             ],
             [
              0.4444444444444444,
              "#bd3786"
             ],
             [
              0.5555555555555556,
              "#d8576b"
             ],
             [
              0.6666666666666666,
              "#ed7953"
             ],
             [
              0.7777777777777778,
              "#fb9f3a"
             ],
             [
              0.8888888888888888,
              "#fdca26"
             ],
             [
              1,
              "#f0f921"
             ]
            ],
            "type": "heatmapgl"
           }
          ],
          "histogram": [
           {
            "marker": {
             "pattern": {
              "fillmode": "overlay",
              "size": 10,
              "solidity": 0.2
             }
            },
            "type": "histogram"
           }
          ],
          "histogram2d": [
           {
            "colorbar": {
             "outlinewidth": 0,
             "ticks": ""
            },
            "colorscale": [
             [
              0,
              "#0d0887"
             ],
             [
              0.1111111111111111,
              "#46039f"
             ],
             [
              0.2222222222222222,
              "#7201a8"
             ],
             [
              0.3333333333333333,
              "#9c179e"
             ],
             [
              0.4444444444444444,
              "#bd3786"
             ],
             [
              0.5555555555555556,
              "#d8576b"
             ],
             [
              0.6666666666666666,
              "#ed7953"
             ],
             [
              0.7777777777777778,
              "#fb9f3a"
             ],
             [
              0.8888888888888888,
              "#fdca26"
             ],
             [
              1,
              "#f0f921"
             ]
            ],
            "type": "histogram2d"
           }
          ],
          "histogram2dcontour": [
           {
            "colorbar": {
             "outlinewidth": 0,
             "ticks": ""
            },
            "colorscale": [
             [
              0,
              "#0d0887"
             ],
             [
              0.1111111111111111,
              "#46039f"
             ],
             [
              0.2222222222222222,
              "#7201a8"
             ],
             [
              0.3333333333333333,
              "#9c179e"
             ],
             [
              0.4444444444444444,
              "#bd3786"
             ],
             [
              0.5555555555555556,
              "#d8576b"
             ],
             [
              0.6666666666666666,
              "#ed7953"
             ],
             [
              0.7777777777777778,
              "#fb9f3a"
             ],
             [
              0.8888888888888888,
              "#fdca26"
             ],
             [
              1,
              "#f0f921"
             ]
            ],
            "type": "histogram2dcontour"
           }
          ],
          "mesh3d": [
           {
            "colorbar": {
             "outlinewidth": 0,
             "ticks": ""
            },
            "type": "mesh3d"
           }
          ],
          "parcoords": [
           {
            "line": {
             "colorbar": {
              "outlinewidth": 0,
              "ticks": ""
             }
            },
            "type": "parcoords"
           }
          ],
          "pie": [
           {
            "automargin": true,
            "type": "pie"
           }
          ],
          "scatter": [
           {
            "fillpattern": {
             "fillmode": "overlay",
             "size": 10,
             "solidity": 0.2
            },
            "type": "scatter"
           }
          ],
          "scatter3d": [
           {
            "line": {
             "colorbar": {
              "outlinewidth": 0,
              "ticks": ""
             }
            },
            "marker": {
             "colorbar": {
              "outlinewidth": 0,
              "ticks": ""
             }
            },
            "type": "scatter3d"
           }
          ],
          "scattercarpet": [
           {
            "marker": {
             "colorbar": {
              "outlinewidth": 0,
              "ticks": ""
             }
            },
            "type": "scattercarpet"
           }
          ],
          "scattergeo": [
           {
            "marker": {
             "colorbar": {
              "outlinewidth": 0,
              "ticks": ""
             }
            },
            "type": "scattergeo"
           }
          ],
          "scattergl": [
           {
            "marker": {
             "colorbar": {
              "outlinewidth": 0,
              "ticks": ""
             }
            },
            "type": "scattergl"
           }
          ],
          "scattermapbox": [
           {
            "marker": {
             "colorbar": {
              "outlinewidth": 0,
              "ticks": ""
             }
            },
            "type": "scattermapbox"
           }
          ],
          "scatterpolar": [
           {
            "marker": {
             "colorbar": {
              "outlinewidth": 0,
              "ticks": ""
             }
            },
            "type": "scatterpolar"
           }
          ],
          "scatterpolargl": [
           {
            "marker": {
             "colorbar": {
              "outlinewidth": 0,
              "ticks": ""
             }
            },
            "type": "scatterpolargl"
           }
          ],
          "scatterternary": [
           {
            "marker": {
             "colorbar": {
              "outlinewidth": 0,
              "ticks": ""
             }
            },
            "type": "scatterternary"
           }
          ],
          "surface": [
           {
            "colorbar": {
             "outlinewidth": 0,
             "ticks": ""
            },
            "colorscale": [
             [
              0,
              "#0d0887"
             ],
             [
              0.1111111111111111,
              "#46039f"
             ],
             [
              0.2222222222222222,
              "#7201a8"
             ],
             [
              0.3333333333333333,
              "#9c179e"
             ],
             [
              0.4444444444444444,
              "#bd3786"
             ],
             [
              0.5555555555555556,
              "#d8576b"
             ],
             [
              0.6666666666666666,
              "#ed7953"
             ],
             [
              0.7777777777777778,
              "#fb9f3a"
             ],
             [
              0.8888888888888888,
              "#fdca26"
             ],
             [
              1,
              "#f0f921"
             ]
            ],
            "type": "surface"
           }
          ],
          "table": [
           {
            "cells": {
             "fill": {
              "color": "#EBF0F8"
             },
             "line": {
              "color": "white"
             }
            },
            "header": {
             "fill": {
              "color": "#C8D4E3"
             },
             "line": {
              "color": "white"
             }
            },
            "type": "table"
           }
          ]
         },
         "layout": {
          "annotationdefaults": {
           "arrowcolor": "#2a3f5f",
           "arrowhead": 0,
           "arrowwidth": 1
          },
          "autotypenumbers": "strict",
          "coloraxis": {
           "colorbar": {
            "outlinewidth": 0,
            "ticks": ""
           }
          },
          "colorscale": {
           "diverging": [
            [
             0,
             "#8e0152"
            ],
            [
             0.1,
             "#c51b7d"
            ],
            [
             0.2,
             "#de77ae"
            ],
            [
             0.3,
             "#f1b6da"
            ],
            [
             0.4,
             "#fde0ef"
            ],
            [
             0.5,
             "#f7f7f7"
            ],
            [
             0.6,
             "#e6f5d0"
            ],
            [
             0.7,
             "#b8e186"
            ],
            [
             0.8,
             "#7fbc41"
            ],
            [
             0.9,
             "#4d9221"
            ],
            [
             1,
             "#276419"
            ]
           ],
           "sequential": [
            [
             0,
             "#0d0887"
            ],
            [
             0.1111111111111111,
             "#46039f"
            ],
            [
             0.2222222222222222,
             "#7201a8"
            ],
            [
             0.3333333333333333,
             "#9c179e"
            ],
            [
             0.4444444444444444,
             "#bd3786"
            ],
            [
             0.5555555555555556,
             "#d8576b"
            ],
            [
             0.6666666666666666,
             "#ed7953"
            ],
            [
             0.7777777777777778,
             "#fb9f3a"
            ],
            [
             0.8888888888888888,
             "#fdca26"
            ],
            [
             1,
             "#f0f921"
            ]
           ],
           "sequentialminus": [
            [
             0,
             "#0d0887"
            ],
            [
             0.1111111111111111,
             "#46039f"
            ],
            [
             0.2222222222222222,
             "#7201a8"
            ],
            [
             0.3333333333333333,
             "#9c179e"
            ],
            [
             0.4444444444444444,
             "#bd3786"
            ],
            [
             0.5555555555555556,
             "#d8576b"
            ],
            [
             0.6666666666666666,
             "#ed7953"
            ],
            [
             0.7777777777777778,
             "#fb9f3a"
            ],
            [
             0.8888888888888888,
             "#fdca26"
            ],
            [
             1,
             "#f0f921"
            ]
           ]
          },
          "colorway": [
           "#636efa",
           "#EF553B",
           "#00cc96",
           "#ab63fa",
           "#FFA15A",
           "#19d3f3",
           "#FF6692",
           "#B6E880",
           "#FF97FF",
           "#FECB52"
          ],
          "font": {
           "color": "#2a3f5f"
          },
          "geo": {
           "bgcolor": "white",
           "lakecolor": "white",
           "landcolor": "white",
           "showlakes": true,
           "showland": true,
           "subunitcolor": "#C8D4E3"
          },
          "hoverlabel": {
           "align": "left"
          },
          "hovermode": "closest",
          "mapbox": {
           "style": "light"
          },
          "paper_bgcolor": "white",
          "plot_bgcolor": "white",
          "polar": {
           "angularaxis": {
            "gridcolor": "#EBF0F8",
            "linecolor": "#EBF0F8",
            "ticks": ""
           },
           "bgcolor": "white",
           "radialaxis": {
            "gridcolor": "#EBF0F8",
            "linecolor": "#EBF0F8",
            "ticks": ""
           }
          },
          "scene": {
           "xaxis": {
            "backgroundcolor": "white",
            "gridcolor": "#DFE8F3",
            "gridwidth": 2,
            "linecolor": "#EBF0F8",
            "showbackground": true,
            "ticks": "",
            "zerolinecolor": "#EBF0F8"
           },
           "yaxis": {
            "backgroundcolor": "white",
            "gridcolor": "#DFE8F3",
            "gridwidth": 2,
            "linecolor": "#EBF0F8",
            "showbackground": true,
            "ticks": "",
            "zerolinecolor": "#EBF0F8"
           },
           "zaxis": {
            "backgroundcolor": "white",
            "gridcolor": "#DFE8F3",
            "gridwidth": 2,
            "linecolor": "#EBF0F8",
            "showbackground": true,
            "ticks": "",
            "zerolinecolor": "#EBF0F8"
           }
          },
          "shapedefaults": {
           "line": {
            "color": "#2a3f5f"
           }
          },
          "ternary": {
           "aaxis": {
            "gridcolor": "#DFE8F3",
            "linecolor": "#A2B1C6",
            "ticks": ""
           },
           "baxis": {
            "gridcolor": "#DFE8F3",
            "linecolor": "#A2B1C6",
            "ticks": ""
           },
           "bgcolor": "white",
           "caxis": {
            "gridcolor": "#DFE8F3",
            "linecolor": "#A2B1C6",
            "ticks": ""
           }
          },
          "title": {
           "x": 0.05
          },
          "xaxis": {
           "automargin": true,
           "gridcolor": "#EBF0F8",
           "linecolor": "#EBF0F8",
           "ticks": "",
           "title": {
            "standoff": 15
           },
           "zerolinecolor": "#EBF0F8",
           "zerolinewidth": 2
          },
          "yaxis": {
           "automargin": true,
           "gridcolor": "#EBF0F8",
           "linecolor": "#EBF0F8",
           "ticks": "",
           "title": {
            "standoff": 15
           },
           "zerolinecolor": "#EBF0F8",
           "zerolinewidth": 2
          }
         }
        },
        "title": {
         "text": "未来30天销售额交互式预测 (ARIMA模型)"
        },
        "xaxis": {
         "title": {
          "text": "日期"
         }
        },
        "yaxis": {
         "title": {
          "text": "销售额"
         }
        }
       }
      },
      "image/png": "[encoded data removed]",
      "text/html": [
       "<div>                            <div id=\"d9a351b9-a995-4e42-9f75-b9f5e3d4ced0\" class=\"plotly-graph-div\" style=\"height:525px; width:100%;\"></div>            <script type=\"text/javascript\">                require([\"plotly\"], function(Plotly) {                    window.PLOTLYENV=window.PLOTLYENV || {};                                    if (document.getElementById(\"d9a351b9-a995-4e42-9f75-b9f5e3d4ced0\")) {                    Plotly.newPlot(                        \"d9a351b9-a995-4e42-9f75-b9f5e3d4ced0\",                        [{\"fill\":\"tozeroy\",\"fillcolor\":\"rgba(65, 105, 225, 0.2)\",\"line\":{\"color\":\"royalblue\",\"width\":2},\"mode\":\"lines\",\"name\":\"\\u5386\\u53f2\\u9500\\u552e\\u989d\",\"x\":[\"2022-03-31T00:00:00\",\"2022-04-01T00:00:00\",\"2022-04-02T00:00:00\",\"2022-04-03T00:00:00\",\"2022-04-04T00:00:00\",\"2022-04-05T00:00:00\",\"2022-04-06T00:00:00\",\"2022-04-07T00:00:00\",\"2022-04-08T00:00:00\",\"2022-04-09T00:00:00\",\"2022-04-10T00:00:00\",\"2022-04-11T00:00:00\",\"2022-04-12T00:00:00\",\"2022-04-13T00:00:00\",\"2022-04-14T00:00:00\",\"2022-04-15T00:00:00\",\"2022-04-16T00:00:00\",\"2022-04-17T00:00:00\",\"2022-04-18T00:00:00\",\"2022-04-19T00:00:00\",\"2022-04-20T00:00:00\",\"2022-04-21T00:00:00\",\"2022-04-22T00:00:00\",\"2022-04-23T00:00:00\",\"2022-04-24T00:00:00\",\"2022-04-25T00:00:00\",\"2022-04-26T00:00:00\",\"2022-04-27T00:00:00\",\"2022-04-28T00:00:00\",\"2022-04-29T00:00:00\",\"2022-04-30T00:00:00\",\"2022-05-01T00:00:00\",\"2022-05-02T00:00:00\",\"2022-05-03T00:00:00\",\"2022-05-04T00:00:00\",\"2022-05-05T00:00:00\",\"2022-05-06T00:00:00\",\"2022-05-07T00:00:00\",\"2022-05-08T00:00:00\",\"2022-05-09T00:00:00\",\"2022-05-10T00:00:00\",\"2022-05-11T00:00:00\",\"2022-05-12T00:00:00\",\"2022-05-13T00:00:00\",\"2022-05-14T00:00:00\",\"2022-05-15T00:00:00\",\"2022-05-16T00:00:00\",\"2022-05-17T00:00:00\",\"2022-05-18T00:00:00\",\"2022-05-19T00:00:00\",\"2022-05-20T00:00:00\",\"2022-05-21T00:00:00\",\"2022-05-22T00:00:00\",\"2022-05-23T00:00:00\",\"2022-05-24T00:00:00\",\"2022-05-25T00:00:00\",\"2022-05-26T00:00:00\",\"2022-05-27T00:00:00\",\"2022-05-28T00:00:00\",\"2022-05-29T00:00:00\",\"2022-05-30T00:00:00\",\"2022-05-31T00:00:00\",\"2022-06-01T00:00:00\",\"2022-06-02T00:00:00\",\"2022-06-03T00:00:00\",\"2022-06-04T00:00:00\",\"2022-06-05T00:00:00\",\"2022-06-06T00:00:00\",\"2022-06-07T00:00:00\",\"2022-06-08T00:00:00\",\"2022-06-09T00:00:00\",\"2022-06-10T00:00:00\",\"2022-06-11T00:00:00\",\"2022-06-12T00:00:00\",\"2022-06-13T00:00:00\",\"2022-06-14T00:00:00\",\"2022-06-15T00:00:00\",\"2022-06-16T00:00:00\",\"2022-06-17T00:00:00\",\"2022-06-18T00:00:00\",\"2022-06-19T00:00:00\",\"2022-06-20T00:00:00\",\"2022-06-21T00:00:00\",\"2022-06-22T00:00:00\",\"2022-06-23T00:00:00\",\"2022-06-24T00:00:00\",\"2022-06-25T00:00:00\",\"2022-06-26T00:00:00\",\"2022-06-27T00:00:00\",\"2022-06-28T00:00:00\",\"2022-06-29T00:00:00\"],\"y\":[94183.0,767000.0,804455.0,911517.0,802266.0,860601.0,794353.0,804152.0,907514.0,858859.0,964543.0,833704.0,771715.0,872149.0,1008387.0,909660.0,879483.0,821728.0,790274.0,863584.0,988163.0,870972.0,867165.0,957244.0,974271.0,843736.0,810294.0,736721.0,751877.0,751385.0,887163.0,992523.0,1065508.0,1076533.0,1094989.0,805545.0,833418.0,819961.0,788436.0,713374.0,628925.0,650918.0,620424.0,627825.0,669930.0,771065.0,658402.0,654705.0,702897.0,696643.0,625718.0,614413.0,699548.0,680660.0,694870.0,740534.0,698204.0,747304.0,784103.0,746840.0,743741.0,814250.0,835919.0,800693.0,661839.0,808613.0,886804.0,861034.0,867068.0,847229.0,851832.0,719269.0,773769.0,870538.0,773319.0,805249.0,703028.0,716837.0,665055.0,648351.0,627372.0,667063.0,684268.0,686159.0,520139.0,481957.0,469255.0,513518.0,447699.0,444275.0,115595.0],\"type\":\"scatter\"},{\"fill\":\"tozeroy\",\"fillcolor\":\"rgba(255, 140, 0, 0.2)\",\"line\":{\"color\":\"darkorange\",\"dash\":\"dash\",\"width\":2},\"mode\":\"lines\",\"name\":\"\\u9884\\u6d4b\\u9500\\u552e\\u989d\",\"x\":[\"2022-06-30T00:00:00\",\"2022-07-01T00:00:00\",\"2022-07-02T00:00:00\",\"2022-07-03T00:00:00\",\"2022-07-04T00:00:00\",\"2022-07-05T00:00:00\",\"2022-07-06T00:00:00\",\"2022-07-07T00:00:00\",\"2022-07-08T00:00:00\",\"2022-07-09T00:00:00\",\"2022-07-10T00:00:00\",\"2022-07-11T00:00:00\",\"2022-07-12T00:00:00\",\"2022-07-13T00:00:00\",\"2022-07-14T00:00:00\",\"2022-07-15T00:00:00\",\"2022-07-16T00:00:00\",\"2022-07-17T00:00:00\",\"2022-07-18T00:00:00\",\"2022-07-19T00:00:00\",\"2022-07-20T00:00:00\",\"2022-07-21T00:00:00\",\"2022-07-22T00:00:00\",\"2022-07-23T00:00:00\",\"2022-07-24T00:00:00\",\"2022-07-25T00:00:00\",\"2022-07-26T00:00:00\",\"2022-07-27T00:00:00\",\"2022-07-28T00:00:00\",\"2022-07-29T00:00:00\"],\"y\":[117666.82236155258,101155.26497203673,184732.2255866569,165341.69259608944,216125.861114507,197860.137173364,210642.69060958072,186170.378099433,195658.05532804088,184300.85410929198,192972.87066916694,187487.299238574,194091.04021698397,190201.77224856784,193600.00635826951,190578.73683415525,192619.95820803588,190683.11613570587,192102.53381600292,190978.03526212354,191960.99425589063,191240.2823303214,191852.9577936335,191366.0478447658,191745.83567122585,191426.23956200923,191673.4783980918,191472.30262054582,191635.35559045774,191507.13566291868],\"type\":\"scatter\"}],                        {\"template\":{\"data\":{\"barpolar\":[{\"marker\":{\"line\":{\"color\":\"white\",\"width\":0.5},\"pattern\":{\"fillmode\":\"overlay\",\"size\":10,\"solidity\":0.2}},\"type\":\"barpolar\"}],\"bar\":[{\"error_x\":{\"color\":\"#2a3f5f\"},\"error_y\":{\"color\":\"#2a3f5f\"},\"marker\":{\"line\":{\"color\":\"white\",\"width\":0.5},\"pattern\":{\"fillmode\":\"overlay\",\"size\":10,\"solidity\":0.2}},\"type\":\"bar\"}],\"carpet\":[{\"aaxis\":{\"endlinecolor\":\"#2a3f5f\",\"gridcolor\":\"#C8D4E3\",\"linecolor\":\"#C8D4E3\",\"minorgridcolor\":\"#C8D4E3\",\"startlinecolor\":\"#2a3f5f\"},\"baxis\":{\"endlinecolor\":\"#2a3f5f\",\"gridcolor\":\"#C8D4E3\",\"linecolor\":\"#C8D4E3\",\"minorgridcolor\":\"#C8D4E3\",\"startlinecolor\":\"#2a3f5f\"},\"type\":\"carpet\"}],\"choropleth\":[{\"colorbar\":{\"outlinewidth\":0,\"ticks\":\"\"},\"type\":\"choropleth\"}],\"contourcarpet\":[{\"colorbar\":{\"outlinewidth\":0,\"ticks\":\"\"},\"type\":\"contourcarpet\"}],\"contour\":[{\"colorbar\":{\"outlinewidth\":0,\"ticks\":\"\"},\"colorscale\":[[0.0,\"#0d0887\"],[0.1111111111111111,\"#46039f\"],[0.2222222222222222,\"#7201a8\"],[0.3333333333333333,\"#9c179e\"],[0.4444444444444444,\"#bd3786\"],[0.5555555555555556,\"#d8576b\"],[0.6666666666666666,\"#ed7953\"],[0.7777777777777778,\"#fb9f3a\"],[0.8888888888888888,\"#fdca26\"],[1.0,\"#f0f921\"]],\"type\":\"contour\"}],\"heatmapgl\":[{\"colorbar\":{\"outlinewidth\":0,\"ticks\":\"\"},\"colorscale\":[[0.0,\"#0d0887\"],[0.1111111111111111,\"#46039f\"],[0.2222222222222222,\"#7201a8\"],[0.3333333333333333,\"#9c179e\"],[0.4444444444444444,\"#bd3786\"],[0.5555555555555556,\"#d8576b\"],[0.6666666666666666,\"#ed7953\"],[0.7777777777777778,\"#fb9f3a\"],[0.8888888888888888,\"#fdca26\"],[1.0,\"#f0f921\"]],\"type\":\"heatmapgl\"}],\"heatmap\":[{\"colorbar\":{\"outlinewidth\":0,\"ticks\":\"\"},\"colorscale\":[[0.0,\"#0d0887\"],[0.1111111111111111,\"#46039f\"],[0.2222222222222222,\"#7201a8\"],[0.3333333333333333,\"#9c179e\"],[0.4444444444444444,\"#bd3786\"],[0.5555555555555556,\"#d8576b\"],[0.6666666666666666,\"#ed7953\"],[0.7777777777777778,\"#fb9f3a\"],[0.8888888888888888,\"#fdca26\"],[1.0,\"#f0f921\"]],\"type\":\"heatmap\"}],\"histogram2dcontour\":[{\"colorbar\":{\"outlinewidth\":0,\"ticks\":\"\"},\"colorscale\":[[0.0,\"#0d0887\"],[0.1111111111111111,\"#46039f\"],[0.2222222222222222,\"#7201a8\"],[0.3333333333333333,\"#9c179e\"],[0.4444444444444444,\"#bd3786\"],[0.5555555555555556,\"#d8576b\"],[0.6666666666666666,\"#ed7953\"],[0.7777777777777778,\"#fb9f3a\"],[0.8888888888888888,\"#fdca26\"],[1.0,\"#f0f921\"]],\"type\":\"histogram2dcontour\"}],\"histogram2d\":[{\"colorbar\":{\"outlinewidth\":0,\"ticks\":\"\"},\"colorscale\":[[0.0,\"#0d0887\"],[0.1111111111111111,\"#46039f\"],[0.2222222222222222,\"#7201a8\"],[0.3333333333333333,\"#9c179e\"],[0.4444444444444444,\"#bd3786\"],[0.5555555555555556,\"#d8576b\"],[0.6666666666666666,\"#ed7953\"],[0.7777777777777778,\"#fb9f3a\"],[0.8888888888888888,\"#fdca26\"],[1.0,\"#f0f921\"]],\"type\":\"histogram2d\"}],\"histogram\":[{\"marker\":{\"pattern\":{\"fillmode\":\"overlay\",\"size\":10,\"solidity\":0.2}},\"type\":\"histogram\"}],\"mesh3d\":[{\"colorbar\":{\"outlinewidth\":0,\"ticks\":\"\"},\"type\":\"mesh3d\"}],\"parcoords\":[{\"line\":{\"colorbar\":{\"outlinewidth\":0,\"ticks\":\"\"}},\"type\":\"parcoords\"}],\"pie\":[{\"automargin\":true,\"type\":\"pie\"}],\"scatter3d\":[{\"line\":{\"colorbar\":{\"outlinewidth\":0,\"ticks\":\"\"}},\"marker\":{\"colorbar\":{\"outlinewidth\":0,\"ticks\":\"\"}},\"type\":\"scatter3d\"}],\"scattercarpet\":[{\"marker\":{\"colorbar\":{\"outlinewidth\":0,\"ticks\":\"\"}},\"type\":\"scattercarpet\"}],\"scattergeo\":[{\"marker\":{\"colorbar\":{\"outlinewidth\":0,\"ticks\":\"\"}},\"type\":\"scattergeo\"}],\"scattergl\":[{\"marker\":{\"colorbar\":{\"outlinewidth\":0,\"ticks\":\"\"}},\"type\":\"scattergl\"}],\"scattermapbox\":[{\"marker\":{\"colorbar\":{\"outlinewidth\":0,\"ticks\":\"\"}},\"type\":\"scattermapbox\"}],\"scatterpolargl\":[{\"marker\":{\"colorbar\":{\"outlinewidth\":0,\"ticks\":\"\"}},\"type\":\"scatterpolargl\"}],\"scatterpolar\":[{\"marker\":{\"colorbar\":{\"outlinewidth\":0,\"ticks\":\"\"}},\"type\":\"scatterpolar\"}],\"scatter\":[{\"fillpattern\":{\"fillmode\":\"overlay\",\"size\":10,\"solidity\":0.2},\"type\":\"scatter\"}],\"scatterternary\":[{\"marker\":{\"colorbar\":{\"outlinewidth\":0,\"ticks\":\"\"}},\"type\":\"scatterternary\"}],\"surface\":[{\"colorbar\":{\"outlinewidth\":0,\"ticks\":\"\"},\"colorscale\":[[0.0,\"#0d0887\"],[0.1111111111111111,\"#46039f\"],[0.2222222222222222,\"#7201a8\"],[0.3333333333333333,\"#9c179e\"],[0.4444444444444444,\"#bd3786\"],[0.5555555555555556,\"#d8576b\"],[0.6666666666666666,\"#ed7953\"],[0.7777777777777778,\"#fb9f3a\"],[0.8888888888888888,\"#fdca26\"],[1.0,\"#f0f921\"]],\"type\":\"surface\"}],\"table\":[{\"cells\":{\"fill\":{\"color\":\"#EBF0F8\"},\"line\":{\"color\":\"white\"}},\"header\":{\"fill\":{\"color\":\"#C8D4E3\"},\"line\":{\"color\":\"white\"}},\"type\":\"table\"}]},\"layout\":{\"annotationdefaults\":{\"arrowcolor\":\"#2a3f5f\",\"arrowhead\":0,\"arrowwidth\":1},\"autotypenumbers\":\"strict\",\"coloraxis\":{\"colorbar\":{\"outlinewidth\":0,\"ticks\":\"\"}},\"colorscale\":{\"diverging\":[[0,\"#8e0152\"],[0.1,\"#c51b7d\"],[0.2,\"#de77ae\"],[0.3,\"#f1b6da\"],[0.4,\"#fde0ef\"],[0.5,\"#f7f7f7\"],[0.6,\"#e6f5d0\"],[0.7,\"#b8e186\"],[0.8,\"#7fbc41\"],[0.9,\"#4d9221\"],[1,\"#276419\"]],\"sequential\":[[0.0,\"#0d0887\"],[0.1111111111111111,\"#46039f\"],[0.2222222222222222,\"#7201a8\"],[0.3333333333333333,\"#9c179e\"],[0.4444444444444444,\"#bd3786\"],[0.5555555555555556,\"#d8576b\"],[0.6666666666666666,\"#ed7953\"],[0.7777777777777778,\"#fb9f3a\"],[0.8888888888888888,\"#fdca26\"],[1.0,\"#f0f921\"]],\"sequentialminus\":[[0.0,\"#0d0887\"],[0.1111111111111111,\"#46039f\"],[0.2222222222222222,\"#7201a8\"],[0.3333333333333333,\"#9c179e\"],[0.4444444444444444,\"#bd3786\"],[0.5555555555555556,\"#d8576b\"],[0.6666666666666666,\"#ed7953\"],[0.7777777777777778,\"#fb9f3a\"],[0.8888888888888888,\"#fdca26\"],[1.0,\"#f0f921\"]]},\"colorway\":[\"#636efa\",\"#EF553B\",\"#00cc96\",\"#ab63fa\",\"#FFA15A\",\"#19d3f3\",\"#FF6692\",\"#B6E880\",\"#FF97FF\",\"#FECB52\"],\"font\":{\"color\":\"#2a3f5f\"},\"geo\":{\"bgcolor\":\"white\",\"lakecolor\":\"white\",\"landcolor\":\"white\",\"showlakes\":true,\"showland\":true,\"subunitcolor\":\"#C8D4E3\"},\"hoverlabel\":{\"align\":\"left\"},\"hovermode\":\"closest\",\"mapbox\":{\"style\":\"light\"},\"paper_bgcolor\":\"white\",\"plot_bgcolor\":\"white\",\"polar\":{\"angularaxis\":{\"gridcolor\":\"#EBF0F8\",\"linecolor\":\"#EBF0F8\",\"ticks\":\"\"},\"bgcolor\":\"white\",\"radialaxis\":{\"gridcolor\":\"#EBF0F8\",\"linecolor\":\"#EBF0F8\",\"ticks\":\"\"}},\"scene\":{\"xaxis\":{\"backgroundcolor\":\"white\",\"gridcolor\":\"#DFE8F3\",\"gridwidth\":2,\"linecolor\":\"#EBF0F8\",\"showbackground\":true,\"ticks\":\"\",\"zerolinecolor\":\"#EBF0F8\"},\"yaxis\":{\"backgroundcolor\":\"white\",\"gridcolor\":\"#DFE8F3\",\"gridwidth\":2,\"linecolor\":\"#EBF0F8\",\"showbackground\":true,\"ticks\":\"\",\"zerolinecolor\":\"#EBF0F8\"},\"zaxis\":{\"backgroundcolor\":\"white\",\"gridcolor\":\"#DFE8F3\",\"gridwidth\":2,\"linecolor\":\"#EBF0F8\",\"showbackground\":true,\"ticks\":\"\",\"zerolinecolor\":\"#EBF0F8\"}},\"shapedefaults\":{\"line\":{\"color\":\"#2a3f5f\"}},\"ternary\":{\"aaxis\":{\"gridcolor\":\"#DFE8F3\",\"linecolor\":\"#A2B1C6\",\"ticks\":\"\"},\"baxis\":{\"gridcolor\":\"#DFE8F3\",\"linecolor\":\"#A2B1C6\",\"ticks\":\"\"},\"bgcolor\":\"white\",\"caxis\":{\"gridcolor\":\"#DFE8F3\",\"linecolor\":\"#A2B1C6\",\"ticks\":\"\"}},\"title\":{\"x\":0.05},\"xaxis\":{\"automargin\":true,\"gridcolor\":\"#EBF0F8\",\"linecolor\":\"#EBF0F8\",\"ticks\":\"\",\"title\":{\"standoff\":15},\"zerolinecolor\":\"#EBF0F8\",\"zerolinewidth\":2},\"yaxis\":{\"automargin\":true,\"gridcolor\":\"#EBF0F8\",\"linecolor\":\"#EBF0F8\",\"ticks\":\"\",\"title\":{\"standoff\":15},\"zerolinecolor\":\"#EBF0F8\",\"zerolinewidth\":2}}},\"title\":{\"text\":\"\\u672a\\u676530\\u5929\\u9500\\u552e\\u989d\\u4ea4\\u4e92\\u5f0f\\u9884\\u6d4b (ARIMA\\u6a21\\u578b)\"},\"xaxis\":{\"title\":{\"text\":\"\\u65e5\\u671f\"}},\"yaxis\":{\"title\":{\"text\":\"\\u9500\\u552e\\u989d\"}},\"legend\":{\"title\":{\"text\":\"\\u56fe\\u4f8b\"}}},                        {\"responsive\": true}                    ).then(function(){\n",
       "                            \n",
       "var gd = document.getElementById('d9a351b9-a995-4e42-9f75-b9f5e3d4ced0');\n",
       "var x = new MutationObserver(function (mutations, observer) {{\n",
       "        var display = window.getComputedStyle(gd).display;\n",
       "        if (!display || display === 'none') {{\n",
       "            console.log([gd, 'removed!']);\n",
       "            Plotly.purge(gd);\n",
       "            observer.disconnect();\n",
       "        }}\n",
       "}});\n",
       "\n",
       "// Listen for the removal of the full notebook cells\n",
       "var notebookContainer = gd.closest('#notebook-container');\n",
       "if (notebookContainer) {{\n",
       "    x.observe(notebookContainer, {childList: true});\n",
       "}}\n",
       "\n",
       "// Listen for the clearing of the current output cell\n",
       "var outputEl = gd.closest('.output');\n",
       "if (outputEl) {{\n",
       "    x.observe(outputEl, {childList: true});\n",
       "}}\n",
       "\n",
       "                        })                };                });            </script>        </div>"
      ]
     },
     "metadata": {},
     "output_type": "display_data"
    }
   ],
   "source": [
    "# 1. 准备时间序列数据\n",
    "sales_ts = amazon_df.groupby('Date')['Amount'].sum().asfreq('D', fill_value=0)\n",
    "\n",
    "# 2. ARIMA模型拟合与预测\n",
    "model = ARIMA(sales_ts, order=(5, 1, 0))\n",
    "model_fit = model.fit()\n",
    "forecast = model_fit.forecast(steps=30)\n",
    "\n",
    "# --- 使用 Plotly 创建交互式面积图 (此处为修改部分) ---\n",
    "# 3. 创建 Plotly 图表对象\n",
    "fig = go.Figure()\n",
    "\n",
    "# 添加历史销售额的面积图\n",
    "fig.add_trace(go.Scatter(\n",
    "    x=sales_ts.index,\n",
    "    y=sales_ts,\n",
    "    mode='lines',  # 保持线条可见\n",
    "    name='历史销售额',\n",
    "    line=dict(color='royalblue', width=2),\n",
    "    fill='tozeroy',  # <-- 新增: 将线下方的区域填充至Y=0轴\n",
    "    fillcolor='rgba(65, 105, 225, 0.2)'  # <-- 新增: 设置一个半透明的填充颜色\n",
    "))\n",
    "\n",
    "# 添加预测销售额的面积图\n",
    "fig.add_trace(go.Scatter(\n",
    "    x=forecast.index,\n",
    "    y=forecast,\n",
    "    mode='lines',\n",
    "    name='预测销售额',\n",
    "    line=dict(color='darkorange', dash='dash', width=2),\n",
    "    fill='tozeroy',  # <-- 新增: 填充区域\n",
    "    fillcolor='rgba(255, 140, 0, 0.2)'  # <-- 新增: 设置半透明填充色\n",
    "))\n",
    "\n",
    "# 4. 更新图表布局 (与之前相同)\n",
    "fig.update_layout(\n",
    "    title='未来30天销售额交互式预测 (ARIMA模型)',\n",
    "    xaxis_title='日期',\n",
    "    yaxis_title='销售额',\n",
    "    legend_title='图例',\n",
    "    template='plotly_white'\n",
    ")\n",
    "\n",
    "# 5. 在 Jupyter 中显示交互式图表\n",
    "fig.show()"
   ]
  },
  {
   "cell_type": "code",
   "execution_count": 8,
   "id": "c7429686-9844-4619-922b-950ff44b8f94",
   "metadata": {},
   "outputs": [
    {
     "name": "stdout",
     "output_type": "stream",
     "text": [
      "正在按商品聚合数据...\n",
      "商品聚合数据预览：\n",
      "              SKU  total_amount  total_qty  order_count\n",
      "0     AN201-RED-M         458.0          2            2\n",
      "1    AN201-RED-XL         602.0          2            2\n",
      "2   AN201-RED-XXL         229.0          1            1\n",
      "3  AN202-ORANGE-M         530.0          2            2\n",
      "4  AN202-ORANGE-S        1141.0          4            4\n",
      "\n",
      "每个商品簇的特征均值:\n",
      "          total_amount   total_qty  order_count\n",
      "cluster                                        \n",
      "2        224516.533333  308.900000   307.566667\n",
      "1         50892.408081   77.618182    77.315152\n",
      "0          5663.940070    9.027519     8.998013\n",
      "\n",
      "“热销商品”簇的ID是: 2\n",
      "\n",
      "排名前10的热销商品:\n",
      "                  SKU  total_amount  total_qty  order_count  cluster\n",
      "1302      J0230-SKD-M      479750.0        432          430        2\n",
      "4454     JNE3797-KR-L      434417.0        598          597        2\n",
      "1303      J0230-SKD-S      422076.0        378          377        2\n",
      "4455     JNE3797-KR-M      357995.0        489          484        2\n",
      "4456     JNE3797-KR-S      322287.0        438          437        2\n",
      "1301      J0230-SKD-L      267211.0        242          241        2\n",
      "4457    JNE3797-KR-XL      266887.0        358          357        2\n",
      "6181  SET268-KR-NP-XL      259368.0        341          340        2\n",
      "4458    JNE3797-KR-XS      253913.0        343          339        2\n",
      "6178   SET268-KR-NP-L      241920.0        326          325        2\n"
     ]
    }
   ],
   "source": [
    "# --- 步骤 1: 将数据从“交易粒度”聚合到“商品粒度” ---\n",
    "# 我们按商品（这里用 'SKU' 作为唯一标识符，如果没有可以用 'Style'）进行分组\n",
    "# 并计算每个商品的累计销售额、累计销量和被购买的次数\n",
    "print(\"正在按商品聚合数据...\")\n",
    "product_agg_df = amazon_df.groupby('SKU').agg(\n",
    "    total_amount=('Amount', 'sum'),      # 总销售额\n",
    "    total_qty=('Qty', 'sum'),            # 总销量\n",
    "    order_count=('Order ID', 'nunique')  # 订单数（多少个不同订单包含此商品）\n",
    ").reset_index()\n",
    "\n",
    "# 检查一下聚合后的数据\n",
    "print(\"商品聚合数据预览：\")\n",
    "print(product_agg_df.head())\n",
    "\n",
    "\n",
    "# --- 步骤 2: 特征选择和标准化 ---\n",
    "# K-Means算法对数据的尺度很敏感（例如，销售额的数值远大于销量）\n",
    "# 所以在聚类前必须进行标准化，让所有特征在同一尺度上\n",
    "features_to_cluster = ['total_amount', 'total_qty', 'order_count']\n",
    "features = product_agg_df[features_to_cluster]\n",
    "\n",
    "# 初始化标准化器并对特征进行转换\n",
    "scaler = StandardScaler()\n",
    "features_scaled = scaler.fit_transform(features)\n",
    "\n",
    "\n",
    "# --- 步骤 3: 执行KMeans聚类 ---\n",
    "# 对聚合后且标准化的商品数据进行聚类\n",
    "kmeans = KMeans(n_clusters=3, n_init=10, random_state=42)\n",
    "product_agg_df.loc[:, 'cluster'] = kmeans.fit_predict(features_scaled)\n",
    "\n",
    "\n",
    "# --- 步骤 4: 分析和解释聚类结果 ---\n",
    "# 查看每个簇的特征均值（这是理解簇含义的关键）\n",
    "# 我们用未标准化的原始数据来查看，这样结果更直观\n",
    "cluster_summary = product_agg_df.groupby('cluster')[features_to_cluster].mean().sort_values(by='total_amount', ascending=False)\n",
    "print(\"\\n每个商品簇的特征均值:\")\n",
    "print(cluster_summary)\n",
    "\n",
    "# 根据上面的均值，我们可以给簇打上标签，例如：\n",
    "# total_amount 最高的那个簇就是我们的“热销商品”簇\n",
    "hot_product_cluster_id = cluster_summary.index[0]\n",
    "print(f\"\\n“热销商品”簇的ID是: {hot_product_cluster_id}\")\n",
    "\n",
    "\n",
    "# --- 步骤 5: 筛选出热销商品 ---\n",
    "# 找出所有属于“热销商品”簇的商品，并按总销售额排序\n",
    "hot_products = product_agg_df[product_agg_df['cluster'] == hot_product_cluster_id].sort_values(by='total_amount', ascending=False)\n",
    "\n",
    "print(\"\\n排名前10的热销商品:\")\n",
    "print(hot_products.head(10))"
   ]
  },
  {
   "cell_type": "code",
   "execution_count": 11,
   "id": "83818887-47b1-4877-9ba4-0da5df99d83e",
   "metadata": {},
   "outputs": [
    {
     "name": "stdout",
     "output_type": "stream",
     "text": [
      "自动检测到评论列为: 'reviews.text'\n",
      "\n",
      "【VADER分析】包含估算星级和情感分数的完整数据：\n"
     ]
    },
    {
     "data": {
      "text/html": [
       "<div>\n",
       "<style scoped>\n",
       "    .dataframe tbody tr th:only-of-type {\n",
       "        vertical-align: middle;\n",
       "    }\n",
       "\n",
       "    .dataframe tbody tr th {\n",
       "        vertical-align: top;\n",
       "    }\n",
       "\n",
       "    .dataframe thead th {\n",
       "        text-align: right;\n",
       "    }\n",
       "</style>\n",
       "<table border=\"1\" class=\"dataframe\">\n",
       "  <thead>\n",
       "    <tr style=\"text-align: right;\">\n",
       "      <th></th>\n",
       "      <th>rating</th>\n",
       "      <th>reviews.text</th>\n",
       "      <th>sentiment</th>\n",
       "    </tr>\n",
       "  </thead>\n",
       "  <tbody>\n",
       "    <tr>\n",
       "      <th>0</th>\n",
       "      <td>5</td>\n",
       "      <td>I initially had trouble deciding between the p...</td>\n",
       "      <td>0.9882</td>\n",
       "    </tr>\n",
       "    <tr>\n",
       "      <th>1</th>\n",
       "      <td>5</td>\n",
       "      <td>Allow me to preface this with a little history...</td>\n",
       "      <td>0.9886</td>\n",
       "    </tr>\n",
       "    <tr>\n",
       "      <th>2</th>\n",
       "      <td>4</td>\n",
       "      <td>I am enjoying it so far. Great for reading. Ha...</td>\n",
       "      <td>0.4364</td>\n",
       "    </tr>\n",
       "    <tr>\n",
       "      <th>3</th>\n",
       "      <td>5</td>\n",
       "      <td>I bought one of the first Paperwhites and have...</td>\n",
       "      <td>0.9755</td>\n",
       "    </tr>\n",
       "    <tr>\n",
       "      <th>4</th>\n",
       "      <td>5</td>\n",
       "      <td>I have to say upfront - I don't like coroporat...</td>\n",
       "      <td>0.9980</td>\n",
       "    </tr>\n",
       "    <tr>\n",
       "      <th>...</th>\n",
       "      <td>...</td>\n",
       "      <td>...</td>\n",
       "      <td>...</td>\n",
       "    </tr>\n",
       "    <tr>\n",
       "      <th>1592</th>\n",
       "      <td>1</td>\n",
       "      <td>This is not the same remote that I got for my ...</td>\n",
       "      <td>-0.7405</td>\n",
       "    </tr>\n",
       "    <tr>\n",
       "      <th>1593</th>\n",
       "      <td>1</td>\n",
       "      <td>I have had to change the batteries in this rem...</td>\n",
       "      <td>-0.9205</td>\n",
       "    </tr>\n",
       "    <tr>\n",
       "      <th>1594</th>\n",
       "      <td>1</td>\n",
       "      <td>Remote did not activate, nor did it connect to...</td>\n",
       "      <td>-0.8126</td>\n",
       "    </tr>\n",
       "    <tr>\n",
       "      <th>1595</th>\n",
       "      <td>5</td>\n",
       "      <td>It does the job but is super over priced. I fe...</td>\n",
       "      <td>0.8271</td>\n",
       "    </tr>\n",
       "    <tr>\n",
       "      <th>1596</th>\n",
       "      <td>1</td>\n",
       "      <td>I ordered this item to replace the one that no...</td>\n",
       "      <td>-0.8630</td>\n",
       "    </tr>\n",
       "  </tbody>\n",
       "</table>\n",
       "<p>1597 rows × 3 columns</p>\n",
       "</div>"
      ],
      "text/plain": [
       "      rating                                       reviews.text  sentiment\n",
       "0          5  I initially had trouble deciding between the p...     0.9882\n",
       "1          5  Allow me to preface this with a little history...     0.9886\n",
       "2          4  I am enjoying it so far. Great for reading. Ha...     0.4364\n",
       "3          5  I bought one of the first Paperwhites and have...     0.9755\n",
       "4          5  I have to say upfront - I don't like coroporat...     0.9980\n",
       "...      ...                                                ...        ...\n",
       "1592       1  This is not the same remote that I got for my ...    -0.7405\n",
       "1593       1  I have had to change the batteries in this rem...    -0.9205\n",
       "1594       1  Remote did not activate, nor did it connect to...    -0.8126\n",
       "1595       5  It does the job but is super over priced. I fe...     0.8271\n",
       "1596       1  I ordered this item to replace the one that no...    -0.8630\n",
       "\n",
       "[1597 rows x 3 columns]"
      ]
     },
     "metadata": {},
     "output_type": "display_data"
    },
    {
     "name": "stdout",
     "output_type": "stream",
     "text": [
      "\n",
      "筛选出估算评分 >= 4 星的评论：\n"
     ]
    },
    {
     "data": {
      "text/html": [
       "<div>\n",
       "<style scoped>\n",
       "    .dataframe tbody tr th:only-of-type {\n",
       "        vertical-align: middle;\n",
       "    }\n",
       "\n",
       "    .dataframe tbody tr th {\n",
       "        vertical-align: top;\n",
       "    }\n",
       "\n",
       "    .dataframe thead th {\n",
       "        text-align: right;\n",
       "    }\n",
       "</style>\n",
       "<table border=\"1\" class=\"dataframe\">\n",
       "  <thead>\n",
       "    <tr style=\"text-align: right;\">\n",
       "      <th></th>\n",
       "      <th>reviews.text</th>\n",
       "      <th>sentiment</th>\n",
       "      <th>rating</th>\n",
       "    </tr>\n",
       "  </thead>\n",
       "  <tbody>\n",
       "    <tr>\n",
       "      <th>0</th>\n",
       "      <td>I initially had trouble deciding between the p...</td>\n",
       "      <td>0.9882</td>\n",
       "      <td>5</td>\n",
       "    </tr>\n",
       "    <tr>\n",
       "      <th>1</th>\n",
       "      <td>Allow me to preface this with a little history...</td>\n",
       "      <td>0.9886</td>\n",
       "      <td>5</td>\n",
       "    </tr>\n",
       "    <tr>\n",
       "      <th>2</th>\n",
       "      <td>I am enjoying it so far. Great for reading. Ha...</td>\n",
       "      <td>0.4364</td>\n",
       "      <td>4</td>\n",
       "    </tr>\n",
       "    <tr>\n",
       "      <th>3</th>\n",
       "      <td>I bought one of the first Paperwhites and have...</td>\n",
       "      <td>0.9755</td>\n",
       "      <td>5</td>\n",
       "    </tr>\n",
       "    <tr>\n",
       "      <th>4</th>\n",
       "      <td>I have to say upfront - I don't like coroporat...</td>\n",
       "      <td>0.9980</td>\n",
       "      <td>5</td>\n",
       "    </tr>\n",
       "    <tr>\n",
       "      <th>...</th>\n",
       "      <td>...</td>\n",
       "      <td>...</td>\n",
       "      <td>...</td>\n",
       "    </tr>\n",
       "    <tr>\n",
       "      <th>1588</th>\n",
       "      <td>Don't bother paying for one or getting a repla...</td>\n",
       "      <td>0.1777</td>\n",
       "      <td>4</td>\n",
       "    </tr>\n",
       "    <tr>\n",
       "      <th>1589</th>\n",
       "      <td>I've had the REPLACEMENT remote 3 months and i...</td>\n",
       "      <td>0.1531</td>\n",
       "      <td>4</td>\n",
       "    </tr>\n",
       "    <tr>\n",
       "      <th>1590</th>\n",
       "      <td>Voice remote gave out nearly a year after I pu...</td>\n",
       "      <td>0.6914</td>\n",
       "      <td>5</td>\n",
       "    </tr>\n",
       "    <tr>\n",
       "      <th>1591</th>\n",
       "      <td>Purchased my first one with the TV Fire box ov...</td>\n",
       "      <td>0.8119</td>\n",
       "      <td>5</td>\n",
       "    </tr>\n",
       "    <tr>\n",
       "      <th>1595</th>\n",
       "      <td>It does the job but is super over priced. I fe...</td>\n",
       "      <td>0.8271</td>\n",
       "      <td>5</td>\n",
       "    </tr>\n",
       "  </tbody>\n",
       "</table>\n",
       "<p>1423 rows × 3 columns</p>\n",
       "</div>"
      ],
      "text/plain": [
       "                                           reviews.text  sentiment  rating\n",
       "0     I initially had trouble deciding between the p...     0.9882       5\n",
       "1     Allow me to preface this with a little history...     0.9886       5\n",
       "2     I am enjoying it so far. Great for reading. Ha...     0.4364       4\n",
       "3     I bought one of the first Paperwhites and have...     0.9755       5\n",
       "4     I have to say upfront - I don't like coroporat...     0.9980       5\n",
       "...                                                 ...        ...     ...\n",
       "1588  Don't bother paying for one or getting a repla...     0.1777       4\n",
       "1589  I've had the REPLACEMENT remote 3 months and i...     0.1531       4\n",
       "1590  Voice remote gave out nearly a year after I pu...     0.6914       5\n",
       "1591  Purchased my first one with the TV Fire box ov...     0.8119       5\n",
       "1595  It does the job but is super over priced. I fe...     0.8271       5\n",
       "\n",
       "[1423 rows x 3 columns]"
      ]
     },
     "metadata": {},
     "output_type": "display_data"
    },
    {
     "name": "stdout",
     "output_type": "stream",
     "text": [
      "\n",
      "筛选出估算评分 <= 2 星的评论：\n"
     ]
    },
    {
     "data": {
      "text/html": [
       "<div>\n",
       "<style scoped>\n",
       "    .dataframe tbody tr th:only-of-type {\n",
       "        vertical-align: middle;\n",
       "    }\n",
       "\n",
       "    .dataframe tbody tr th {\n",
       "        vertical-align: top;\n",
       "    }\n",
       "\n",
       "    .dataframe thead th {\n",
       "        text-align: right;\n",
       "    }\n",
       "</style>\n",
       "<table border=\"1\" class=\"dataframe\">\n",
       "  <thead>\n",
       "    <tr style=\"text-align: right;\">\n",
       "      <th></th>\n",
       "      <th>reviews.text</th>\n",
       "      <th>sentiment</th>\n",
       "      <th>rating</th>\n",
       "    </tr>\n",
       "  </thead>\n",
       "  <tbody>\n",
       "    <tr>\n",
       "      <th>23</th>\n",
       "      <td>The Kindle is my first e-ink reader. I own an ...</td>\n",
       "      <td>-0.0580</td>\n",
       "      <td>2</td>\n",
       "    </tr>\n",
       "    <tr>\n",
       "      <th>33</th>\n",
       "      <td>The Kindle is my first e-ink reader. I own an ...</td>\n",
       "      <td>-0.0580</td>\n",
       "      <td>2</td>\n",
       "    </tr>\n",
       "    <tr>\n",
       "      <th>35</th>\n",
       "      <td>The Kindle is my first e-ink reader. I own an ...</td>\n",
       "      <td>-0.0580</td>\n",
       "      <td>2</td>\n",
       "    </tr>\n",
       "    <tr>\n",
       "      <th>39</th>\n",
       "      <td>All of them quit working. There's absolutely n...</td>\n",
       "      <td>-0.6881</td>\n",
       "      <td>1</td>\n",
       "    </tr>\n",
       "    <tr>\n",
       "      <th>44</th>\n",
       "      <td>I got my Kindle a few years ago and barely use...</td>\n",
       "      <td>-0.8516</td>\n",
       "      <td>1</td>\n",
       "    </tr>\n",
       "    <tr>\n",
       "      <th>...</th>\n",
       "      <td>...</td>\n",
       "      <td>...</td>\n",
       "      <td>...</td>\n",
       "    </tr>\n",
       "    <tr>\n",
       "      <th>1586</th>\n",
       "      <td>All in all I love this remote! It's pretty sma...</td>\n",
       "      <td>-0.8333</td>\n",
       "      <td>1</td>\n",
       "    </tr>\n",
       "    <tr>\n",
       "      <th>1592</th>\n",
       "      <td>This is not the same remote that I got for my ...</td>\n",
       "      <td>-0.7405</td>\n",
       "      <td>1</td>\n",
       "    </tr>\n",
       "    <tr>\n",
       "      <th>1593</th>\n",
       "      <td>I have had to change the batteries in this rem...</td>\n",
       "      <td>-0.9205</td>\n",
       "      <td>1</td>\n",
       "    </tr>\n",
       "    <tr>\n",
       "      <th>1594</th>\n",
       "      <td>Remote did not activate, nor did it connect to...</td>\n",
       "      <td>-0.8126</td>\n",
       "      <td>1</td>\n",
       "    </tr>\n",
       "    <tr>\n",
       "      <th>1596</th>\n",
       "      <td>I ordered this item to replace the one that no...</td>\n",
       "      <td>-0.8630</td>\n",
       "      <td>1</td>\n",
       "    </tr>\n",
       "  </tbody>\n",
       "</table>\n",
       "<p>123 rows × 3 columns</p>\n",
       "</div>"
      ],
      "text/plain": [
       "                                           reviews.text  sentiment  rating\n",
       "23    The Kindle is my first e-ink reader. I own an ...    -0.0580       2\n",
       "33    The Kindle is my first e-ink reader. I own an ...    -0.0580       2\n",
       "35    The Kindle is my first e-ink reader. I own an ...    -0.0580       2\n",
       "39    All of them quit working. There's absolutely n...    -0.6881       1\n",
       "44    I got my Kindle a few years ago and barely use...    -0.8516       1\n",
       "...                                                 ...        ...     ...\n",
       "1586  All in all I love this remote! It's pretty sma...    -0.8333       1\n",
       "1592  This is not the same remote that I got for my ...    -0.7405       1\n",
       "1593  I have had to change the batteries in this rem...    -0.9205       1\n",
       "1594  Remote did not activate, nor did it connect to...    -0.8126       1\n",
       "1596  I ordered this item to replace the one that no...    -0.8630       1\n",
       "\n",
       "[123 rows x 3 columns]"
      ]
     },
     "metadata": {},
     "output_type": "display_data"
    },
    {
     "name": "stdout",
     "output_type": "stream",
     "text": [
      "\n",
      "高分 (估算>=4星) 评论的平均情感分: 0.84\n",
      "低分 (估算<=2星) 评论的平均情感分: -0.50\n"
     ]
    }
   ],
   "source": [
    "import pandas as pd\n",
    "from vaderSentiment.vaderSentiment import SentimentIntensityAnalyzer\n",
    "\n",
    "\n",
    "# ---  自动检测评论列的函数，优先检查常见列名 ---\n",
    "def find_review_column(df):\n",
    "    \"\"\"自动在DataFrame中查找最可能是评论文本的列，优先检查常见列名。\"\"\"\n",
    "    # 1. 优先检查精确匹配的常见评论列名\n",
    "    priority_cols = ['reviews.text', 'review_text', 'content', 'comment', 'review']\n",
    "    for p_col in priority_cols:\n",
    "        if p_col in df.columns:\n",
    "            # 确保该列至少有一些非空字符串，避免选到全是NaN的列\n",
    "            if df[p_col].astype(str).str.strip().any():\n",
    "                return p_col\n",
    "\n",
    "    # 2. 如果精确匹配失败，查找包含关键词的列\n",
    "    possible_cols = [col for col in df.columns if any(key in col.lower() for key in ['text', 'review', 'content', 'comment'])]\n",
    "    if possible_cols:\n",
    "        # 确保只对字符串列计算长度，避免非字符串类型报错\n",
    "        string_cols = [col for col in possible_cols if df[col].dtype == 'object']\n",
    "        if string_cols:\n",
    "            # 规则：选择字符串平均长度最长的那个 (需先转为str，处理NaN)\n",
    "            return max(string_cols, key=lambda col: df[col].astype(str).str.len().mean())\n",
    "        \n",
    "    # 3. 如果以上都失败，返回第一个数据类型为 'object' 的列\n",
    "    object_cols = df.select_dtypes(include=['object']).columns\n",
    "    if not object_cols.empty:\n",
    "        # 选择第一个非空且非全是NaN的object列\n",
    "        for col in object_cols:\n",
    "            if df[col].astype(str).str.strip().any():\n",
    "                return col\n",
    "        \n",
    "    # 如果以上都失败，返回 None\n",
    "    return None\n",
    "\n",
    "# --- (新功能) 从情感分数到星级的映射函数 ---\n",
    "def sentiment_to_rating(sentiment):\n",
    "    if sentiment >= 0.5: return 5\n",
    "    elif sentiment >= 0.05: return 4\n",
    "    elif sentiment > -0.05: return 3\n",
    "    elif sentiment > -0.5: return 2\n",
    "    else: return 1\n",
    "\n",
    "# 1. 加载评论数据\n",
    "try:\n",
    "    reviews_df = pd.read_csv(\"reviews.csv\")\n",
    "    \n",
    "    # --- (修改部分) 调用函数自动查找评论列名 ---\n",
    "    review_column_name = find_review_column(reviews_df)\n",
    "\n",
    "    if review_column_name is None:\n",
    "        raise ValueError(\"在CSV文件中未能自动检测到任何文本评论列。请确保包含评论的列存在。\")\n",
    "        \n",
    "    print(f\"自动检测到评论列为: '{review_column_name}'\")\n",
    "    \n",
    "    # 确保我们只使用检测到的文本列。先对该列进行强制字符串转换，处理 NaN\n",
    "    reviews_df[review_column_name] = reviews_df[review_column_name].astype(str)\n",
    "    # 删除转换后仍然是空白字符串的行（例如，原始是NaN或空字符串的）\n",
    "    reviews_df.dropna(subset=[review_column_name], inplace=True)\n",
    "    reviews_df = reviews_df[reviews_df[review_column_name].str.strip() != 'None'].copy() # 移除 'None' 字符串\n",
    "\n",
    "    # 确保 rating 列也存在，如果不存在则会重新生成\n",
    "    if 'rating' not in reviews_df.columns:\n",
    "        # 如果原始文件不含 rating，则只保留评论文本\n",
    "        reviews_df = reviews_df[[review_column_name]].copy()\n",
    "        # VADER 分析后会自行生成 rating 列\n",
    "    else:\n",
    "        # 如果原始文件包含 rating，则保留这两列\n",
    "        reviews_df = reviews_df[[review_column_name, 'rating']].copy()\n",
    "\n",
    "except (FileNotFoundError, ValueError) as e:\n",
    "    print(f\"数据加载或列检测失败: {e}。将使用模拟数据进行演示。\")\n",
    "    # 模拟数据现在同时包含 'rating' 和 'reviews.text'，并确保 'reviews.text' 是字符串\n",
    "    reviews_data = {\n",
    "        'rating': [5, 5, 2, 1, 4, 3],\n",
    "        'reviews.text': [ # 使用 'reviews.text' 列名\n",
    "            'This is absolutely fantastic! Best purchase ever.',\n",
    "            'I love it, works perfectly and looks great.',\n",
    "            'It broke after two days. Very disappointed.',\n",
    "            'Do not buy this product. A complete waste of money.',\n",
    "            'It is pretty good for the price, but the battery could be better.',\n",
    "            'It works, but the quality is not as expected.'\n",
    "        ]\n",
    "    }\n",
    "    reviews_df = pd.DataFrame(reviews_data)\n",
    "    review_column_name = 'reviews.text' # 模拟数据的评论列名\n",
    "\n",
    "\n",
    "# 2. 初始化 VADER 分析器\n",
    "analyzer = SentimentIntensityAnalyzer()\n",
    "\n",
    "# 3. 执行情感分析\n",
    "# 确保在 apply 之前 reviews_df[review_column_name] 已经是字符串类型\n",
    "reviews_df['sentiment'] = reviews_df[review_column_name].apply(lambda text: analyzer.polarity_scores(text)['compound'])\n",
    "\n",
    "# 4. 如果原始数据不含 'rating'，则从情感分数生成估算星级\n",
    "if 'rating' not in reviews_df.columns:\n",
    "    reviews_df['rating'] = reviews_df['sentiment'].apply(sentiment_to_rating)\n",
    "\n",
    "# --- 后续代码保持不变 ---\n",
    "print(\"\\n【VADER分析】包含估算星级和情感分数的完整数据：\")\n",
    "display(reviews_df[['rating', review_column_name, 'sentiment']])\n",
    "\n",
    "min_rating = 4\n",
    "high_rating_reviews = reviews_df[reviews_df['rating'] >= min_rating].copy()\n",
    "print(f\"\\n筛选出估算评分 >= {min_rating} 星的评论：\")\n",
    "display(high_rating_reviews)\n",
    "\n",
    "max_rating = 2 \n",
    "low_rating_reviews_filtered = reviews_df[reviews_df['rating'] <= max_rating].copy()\n",
    "print(f\"\\n筛选出估算评分 <= {max_rating} 星的评论：\")\n",
    "display(low_rating_reviews_filtered)\n",
    "\n",
    "avg_sentiment_high = high_rating_reviews['sentiment'].mean() if not high_rating_reviews.empty else 0\n",
    "avg_sentiment_low = low_rating_reviews_filtered['sentiment'].mean() if not low_rating_reviews_filtered.empty else 0\n",
    "\n",
    "print(f\"\\n高分 (估算>={min_rating}星) 评论的平均情感分: {avg_sentiment_high:.2f}\")\n",
    "print(f\"低分 (估算<={max_rating}星) 评论的平均情感分: {avg_sentiment_low:.2f}\")"
   ]
  },
  {
   "cell_type": "code",
   "execution_count": 14,
   "id": "cf6c9084-f4a7-4309-b548-c3d30bc5366a",
   "metadata": {},
   "outputs": [
    {
     "data": {
      "application/vnd.plotly.v1+json": {
       "config": {
        "plotlyServerURL": "https://plot.ly"
       },
       "data": [
        {
         "alignmentgroup": "True",
         "hovertemplate": "产品类别=%{x}<br>平均销售额 (Amount)=%{y}<extra></extra>",
         "legendgroup": "Set",
         "marker": {
          "color": "#636efa",
          "pattern": {
           "shape": ""
          }
         },
         "name": "Set",
         "offsetgroup": "Set",
         "orientation": "v",
         "showlegend": true,
         "textfont": {
          "size": 12
         },
         "textposition": "outside",
         "texttemplate": "%{y:.2f}",
         "type": "bar",
         "x": [
          "Set"
         ],
         "xaxis": "x",
         "y": [
          834.0808725402179
         ],
         "yaxis": "y"
        },
        {
         "alignmentgroup": "True",
         "hovertemplate": "产品类别=%{x}<br>平均销售额 (Amount)=%{y}<extra></extra>",
         "legendgroup": "Western Dress",
         "marker": {
          "color": "#EF553B",
          "pattern": {
           "shape": ""
          }
         },
         "name": "Western Dress",
         "offsetgroup": "Western Dress",
         "orientation": "v",
         "showlegend": true,
         "textfont": {
          "size": 12
         },
         "textposition": "outside",
         "texttemplate": "%{y:.2f}",
         "type": "bar",
         "x": [
          "Western Dress"
         ],
         "xaxis": "x",
         "y": [
          765.1615068709525
         ],
         "yaxis": "y"
        },
        {
         "alignmentgroup": "True",
         "hovertemplate": "产品类别=%{x}<br>平均销售额 (Amount)=%{y}<extra></extra>",
         "legendgroup": "kurta",
         "marker": {
          "color": "#00cc96",
          "pattern": {
           "shape": ""
          }
         },
         "name": "kurta",
         "offsetgroup": "kurta",
         "orientation": "v",
         "showlegend": true,
         "textfont": {
          "size": 12
         },
         "textposition": "outside",
         "texttemplate": "%{y:.2f}",
         "type": "bar",
         "x": [
          "kurta"
         ],
         "xaxis": "x",
         "y": [
          456.5067198094636
         ],
         "yaxis": "y"
        }
       ],
       "layout": {
        "barmode": "relative",
        "height": 500,
        "legend": {
         "title": {
          "text": "产品类别"
         },
         "tracegroupgap": 0
        },
        "showlegend": false,
        "template": {
         "data": {
          "bar": [
           {
            "error_x": {
             "color": "#2a3f5f"
            },
            "error_y": {
             "color": "#2a3f5f"
            },
            "marker": {
             "line": {
              "color": "white",
              "width": 0.5
             },
             "pattern": {
              "fillmode": "overlay",
              "size": 10,
              "solidity": 0.2
             }
            },
            "type": "bar"
           }
          ],
          "barpolar": [
           {
            "marker": {
             "line": {
              "color": "white",
              "width": 0.5
             },
             "pattern": {
              "fillmode": "overlay",
              "size": 10,
              "solidity": 0.2
             }
            },
            "type": "barpolar"
           }
          ],
          "carpet": [
           {
            "aaxis": {
             "endlinecolor": "#2a3f5f",
             "gridcolor": "#C8D4E3",
             "linecolor": "#C8D4E3",
             "minorgridcolor": "#C8D4E3",
             "startlinecolor": "#2a3f5f"
            },
            "baxis": {
             "endlinecolor": "#2a3f5f",
             "gridcolor": "#C8D4E3",
             "linecolor": "#C8D4E3",
             "minorgridcolor": "#C8D4E3",
             "startlinecolor": "#2a3f5f"
            },
            "type": "carpet"
           }
          ],
          "choropleth": [
           {
            "colorbar": {
             "outlinewidth": 0,
             "ticks": ""
            },
            "type": "choropleth"
           }
          ],
          "contour": [
           {
            "colorbar": {
             "outlinewidth": 0,
             "ticks": ""
            },
            "colorscale": [
             [
              0,
              "#0d0887"
             ],
             [
              0.1111111111111111,
              "#46039f"
             ],
             [
              0.2222222222222222,
              "#7201a8"
             ],
             [
              0.3333333333333333,
              "#9c179e"
             ],
             [
              0.4444444444444444,
              "#bd3786"
             ],
             [
              0.5555555555555556,
              "#d8576b"
             ],
             [
              0.6666666666666666,
              "#ed7953"
             ],
             [
              0.7777777777777778,
              "#fb9f3a"
             ],
             [
              0.8888888888888888,
              "#fdca26"
             ],
             [
              1,
              "#f0f921"
             ]
            ],
            "type": "contour"
           }
          ],
          "contourcarpet": [
           {
            "colorbar": {
             "outlinewidth": 0,
             "ticks": ""
            },
            "type": "contourcarpet"
           }
          ],
          "heatmap": [
           {
            "colorbar": {
             "outlinewidth": 0,
             "ticks": ""
            },
            "colorscale": [
             [
              0,
              "#0d0887"
             ],
             [
              0.1111111111111111,
              "#46039f"
             ],
             [
              0.2222222222222222,
              "#7201a8"
             ],
             [
              0.3333333333333333,
              "#9c179e"
             ],
             [
              0.4444444444444444,
              "#bd3786"
             ],
             [
              0.5555555555555556,
              "#d8576b"
             ],
             [
              0.6666666666666666,
              "#ed7953"
             ],
             [
              0.7777777777777778,
              "#fb9f3a"
             ],
             [
              0.8888888888888888,
              "#fdca26"
             ],
             [
              1,
              "#f0f921"
             ]
            ],
            "type": "heatmap"
           }
          ],
          "heatmapgl": [
           {
            "colorbar": {
             "outlinewidth": 0,
             "ticks": ""
            },
            "colorscale": [
             [
              0,
              "#0d0887"
             ],
             [
              0.1111111111111111,
              "#46039f"
             ],
             [
              0.2222222222222222,
              "#7201a8"
             ],
             [
              0.3333333333333333,
              "#9c179e"
             ],
             [
              0.4444444444444444,
              "#bd3786"
             ],
             [
              0.5555555555555556,
              "#d8576b"
             ],
             [
              0.6666666666666666,
              "#ed7953"
             ],
             [
              0.7777777777777778,
              "#fb9f3a"
             ],
             [
              0.8888888888888888,
              "#fdca26"
             ],
             [
              1,
              "#f0f921"
             ]
            ],
            "type": "heatmapgl"
           }
          ],
          "histogram": [
           {
            "marker": {
             "pattern": {
              "fillmode": "overlay",
              "size": 10,
              "solidity": 0.2
             }
            },
            "type": "histogram"
           }
          ],
          "histogram2d": [
           {
            "colorbar": {
             "outlinewidth": 0,
             "ticks": ""
            },
            "colorscale": [
             [
              0,
              "#0d0887"
             ],
             [
              0.1111111111111111,
              "#46039f"
             ],
             [
              0.2222222222222222,
              "#7201a8"
             ],
             [
              0.3333333333333333,
              "#9c179e"
             ],
             [
              0.4444444444444444,
              "#bd3786"
             ],
             [
              0.5555555555555556,
              "#d8576b"
             ],
             [
              0.6666666666666666,
              "#ed7953"
             ],
             [
              0.7777777777777778,
              "#fb9f3a"
             ],
             [
              0.8888888888888888,
              "#fdca26"
             ],
             [
              1,
              "#f0f921"
             ]
            ],
            "type": "histogram2d"
           }
          ],
          "histogram2dcontour": [
           {
            "colorbar": {
             "outlinewidth": 0,
             "ticks": ""
            },
            "colorscale": [
             [
              0,
              "#0d0887"
             ],
             [
              0.1111111111111111,
              "#46039f"
             ],
             [
              0.2222222222222222,
              "#7201a8"
             ],
             [
              0.3333333333333333,
              "#9c179e"
             ],
             [
              0.4444444444444444,
              "#bd3786"
             ],
             [
              0.5555555555555556,
              "#d8576b"
             ],
             [
              0.6666666666666666,
              "#ed7953"
             ],
             [
              0.7777777777777778,
              "#fb9f3a"
             ],
             [
              0.8888888888888888,
              "#fdca26"
             ],
             [
              1,
              "#f0f921"
             ]
            ],
            "type": "histogram2dcontour"
           }
          ],
          "mesh3d": [
           {
            "colorbar": {
             "outlinewidth": 0,
             "ticks": ""
            },
            "type": "mesh3d"
           }
          ],
          "parcoords": [
           {
            "line": {
             "colorbar": {
              "outlinewidth": 0,
              "ticks": ""
             }
            },
            "type": "parcoords"
           }
          ],
          "pie": [
           {
            "automargin": true,
            "type": "pie"
           }
          ],
          "scatter": [
           {
            "fillpattern": {
             "fillmode": "overlay",
             "size": 10,
             "solidity": 0.2
            },
            "type": "scatter"
           }
          ],
          "scatter3d": [
           {
            "line": {
             "colorbar": {
              "outlinewidth": 0,
              "ticks": ""
             }
            },
            "marker": {
             "colorbar": {
              "outlinewidth": 0,
              "ticks": ""
             }
            },
            "type": "scatter3d"
           }
          ],
          "scattercarpet": [
           {
            "marker": {
             "colorbar": {
              "outlinewidth": 0,
              "ticks": ""
             }
            },
            "type": "scattercarpet"
           }
          ],
          "scattergeo": [
           {
            "marker": {
             "colorbar": {
              "outlinewidth": 0,
              "ticks": ""
             }
            },
            "type": "scattergeo"
           }
          ],
          "scattergl": [
           {
            "marker": {
             "colorbar": {
              "outlinewidth": 0,
              "ticks": ""
             }
            },
            "type": "scattergl"
           }
          ],
          "scattermapbox": [
           {
            "marker": {
             "colorbar": {
              "outlinewidth": 0,
              "ticks": ""
             }
            },
            "type": "scattermapbox"
           }
          ],
          "scatterpolar": [
           {
            "marker": {
             "colorbar": {
              "outlinewidth": 0,
              "ticks": ""
             }
            },
            "type": "scatterpolar"
           }
          ],
          "scatterpolargl": [
           {
            "marker": {
             "colorbar": {
              "outlinewidth": 0,
              "ticks": ""
             }
            },
            "type": "scatterpolargl"
           }
          ],
          "scatterternary": [
           {
            "marker": {
             "colorbar": {
              "outlinewidth": 0,
              "ticks": ""
             }
            },
            "type": "scatterternary"
           }
          ],
          "surface": [
           {
            "colorbar": {
             "outlinewidth": 0,
             "ticks": ""
            },
            "colorscale": [
             [
              0,
              "#0d0887"
             ],
             [
              0.1111111111111111,
              "#46039f"
             ],
             [
              0.2222222222222222,
              "#7201a8"
             ],
             [
              0.3333333333333333,
              "#9c179e"
             ],
             [
              0.4444444444444444,
              "#bd3786"
             ],
             [
              0.5555555555555556,
              "#d8576b"
             ],
             [
              0.6666666666666666,
              "#ed7953"
             ],
             [
              0.7777777777777778,
              "#fb9f3a"
             ],
             [
              0.8888888888888888,
              "#fdca26"
             ],
             [
              1,
              "#f0f921"
             ]
            ],
            "type": "surface"
           }
          ],
          "table": [
           {
            "cells": {
             "fill": {
              "color": "#EBF0F8"
             },
             "line": {
              "color": "white"
             }
            },
            "header": {
             "fill": {
              "color": "#C8D4E3"
             },
             "line": {
              "color": "white"
             }
            },
            "type": "table"
           }
          ]
         },
         "layout": {
          "annotationdefaults": {
           "arrowcolor": "#2a3f5f",
           "arrowhead": 0,
           "arrowwidth": 1
          },
          "autotypenumbers": "strict",
          "coloraxis": {
           "colorbar": {
            "outlinewidth": 0,
            "ticks": ""
           }
          },
          "colorscale": {
           "diverging": [
            [
             0,
             "#8e0152"
            ],
            [
             0.1,
             "#c51b7d"
            ],
            [
             0.2,
             "#de77ae"
            ],
            [
             0.3,
             "#f1b6da"
            ],
            [
             0.4,
             "#fde0ef"
            ],
            [
             0.5,
             "#f7f7f7"
            ],
            [
             0.6,
             "#e6f5d0"
            ],
            [
             0.7,
             "#b8e186"
            ],
            [
             0.8,
             "#7fbc41"
            ],
            [
             0.9,
             "#4d9221"
            ],
            [
             1,
             "#276419"
            ]
           ],
           "sequential": [
            [
             0,
             "#0d0887"
            ],
            [
             0.1111111111111111,
             "#46039f"
            ],
            [
             0.2222222222222222,
             "#7201a8"
            ],
            [
             0.3333333333333333,
             "#9c179e"
            ],
            [
             0.4444444444444444,
             "#bd3786"
            ],
            [
             0.5555555555555556,
             "#d8576b"
            ],
            [
             0.6666666666666666,
             "#ed7953"
            ],
            [
             0.7777777777777778,
             "#fb9f3a"
            ],
            [
             0.8888888888888888,
             "#fdca26"
            ],
            [
             1,
             "#f0f921"
            ]
           ],
           "sequentialminus": [
            [
             0,
             "#0d0887"
            ],
            [
             0.1111111111111111,
             "#46039f"
            ],
            [
             0.2222222222222222,
             "#7201a8"
            ],
            [
             0.3333333333333333,
             "#9c179e"
            ],
            [
             0.4444444444444444,
             "#bd3786"
            ],
            [
             0.5555555555555556,
             "#d8576b"
            ],
            [
             0.6666666666666666,
             "#ed7953"
            ],
            [
             0.7777777777777778,
             "#fb9f3a"
            ],
            [
             0.8888888888888888,
             "#fdca26"
            ],
            [
             1,
             "#f0f921"
            ]
           ]
          },
          "colorway": [
           "#636efa",
           "#EF553B",
           "#00cc96",
           "#ab63fa",
           "#FFA15A",
           "#19d3f3",
           "#FF6692",
           "#B6E880",
           "#FF97FF",
           "#FECB52"
          ],
          "font": {
           "color": "#2a3f5f"
          },
          "geo": {
           "bgcolor": "white",
           "lakecolor": "white",
           "landcolor": "white",
           "showlakes": true,
           "showland": true,
           "subunitcolor": "#C8D4E3"
          },
          "hoverlabel": {
           "align": "left"
          },
          "hovermode": "closest",
          "mapbox": {
           "style": "light"
          },
          "paper_bgcolor": "white",
          "plot_bgcolor": "white",
          "polar": {
           "angularaxis": {
            "gridcolor": "#EBF0F8",
            "linecolor": "#EBF0F8",
            "ticks": ""
           },
           "bgcolor": "white",
           "radialaxis": {
            "gridcolor": "#EBF0F8",
            "linecolor": "#EBF0F8",
            "ticks": ""
           }
          },
          "scene": {
           "xaxis": {
            "backgroundcolor": "white",
            "gridcolor": "#DFE8F3",
            "gridwidth": 2,
            "linecolor": "#EBF0F8",
            "showbackground": true,
            "ticks": "",
            "zerolinecolor": "#EBF0F8"
           },
           "yaxis": {
            "backgroundcolor": "white",
            "gridcolor": "#DFE8F3",
            "gridwidth": 2,
            "linecolor": "#EBF0F8",
            "showbackground": true,
            "ticks": "",
            "zerolinecolor": "#EBF0F8"
           },
           "zaxis": {
            "backgroundcolor": "white",
            "gridcolor": "#DFE8F3",
            "gridwidth": 2,
            "linecolor": "#EBF0F8",
            "showbackground": true,
            "ticks": "",
            "zerolinecolor": "#EBF0F8"
           }
          },
          "shapedefaults": {
           "line": {
            "color": "#2a3f5f"
           }
          },
          "ternary": {
           "aaxis": {
            "gridcolor": "#DFE8F3",
            "linecolor": "#A2B1C6",
            "ticks": ""
           },
           "baxis": {
            "gridcolor": "#DFE8F3",
            "linecolor": "#A2B1C6",
            "ticks": ""
           },
           "bgcolor": "white",
           "caxis": {
            "gridcolor": "#DFE8F3",
            "linecolor": "#A2B1C6",
            "ticks": ""
           }
          },
          "title": {
           "x": 0.05
          },
          "xaxis": {
           "automargin": true,
           "gridcolor": "#EBF0F8",
           "linecolor": "#EBF0F8",
           "ticks": "",
           "title": {
            "standoff": 15
           },
           "zerolinecolor": "#EBF0F8",
           "zerolinewidth": 2
          },
          "yaxis": {
           "automargin": true,
           "gridcolor": "#EBF0F8",
           "linecolor": "#EBF0F8",
           "ticks": "",
           "title": {
            "standoff": 15
           },
           "zerolinecolor": "#EBF0F8",
           "zerolinewidth": 2
          }
         }
        },
        "title": {
         "font": {
          "size": 18
         },
         "text": "各产品类别平均销售额对比"
        },
        "width": 600,
        "xaxis": {
         "anchor": "y",
         "categoryarray": [
          "Set",
          "Western Dress",
          "kurta"
         ],
         "categoryorder": "array",
         "domain": [
          0,
          1
         ],
         "title": {
          "font": {
           "size": 14
          },
          "text": "产品类别"
         }
        },
        "yaxis": {
         "anchor": "x",
         "domain": [
          0,
          1
         ],
         "title": {
          "font": {
           "size": 14
          },
          "text": "平均销售额 (Amount)"
         }
        }
       }
      },
      "image/png": "[encoded data removed]",
      "text/html": [
       "<div>                            <div id=\"4ec8512b-6403-4da1-a68b-0270fb6b4961\" class=\"plotly-graph-div\" style=\"height:500px; width:600px;\"></div>            <script type=\"text/javascript\">                require([\"plotly\"], function(Plotly) {                    window.PLOTLYENV=window.PLOTLYENV || {};                                    if (document.getElementById(\"4ec8512b-6403-4da1-a68b-0270fb6b4961\")) {                    Plotly.newPlot(                        \"4ec8512b-6403-4da1-a68b-0270fb6b4961\",                        [{\"alignmentgroup\":\"True\",\"hovertemplate\":\"\\u4ea7\\u54c1\\u7c7b\\u522b=%{x}\\u003cbr\\u003e\\u5e73\\u5747\\u9500\\u552e\\u989d (Amount)=%{y}\\u003cextra\\u003e\\u003c\\u002fextra\\u003e\",\"legendgroup\":\"Set\",\"marker\":{\"color\":\"#636efa\",\"pattern\":{\"shape\":\"\"}},\"name\":\"Set\",\"offsetgroup\":\"Set\",\"orientation\":\"v\",\"showlegend\":true,\"textposition\":\"outside\",\"texttemplate\":\"%{y:.2f}\",\"x\":[\"Set\"],\"xaxis\":\"x\",\"y\":[834.0808725402179],\"yaxis\":\"y\",\"type\":\"bar\",\"textfont\":{\"size\":12}},{\"alignmentgroup\":\"True\",\"hovertemplate\":\"\\u4ea7\\u54c1\\u7c7b\\u522b=%{x}\\u003cbr\\u003e\\u5e73\\u5747\\u9500\\u552e\\u989d (Amount)=%{y}\\u003cextra\\u003e\\u003c\\u002fextra\\u003e\",\"legendgroup\":\"Western Dress\",\"marker\":{\"color\":\"#EF553B\",\"pattern\":{\"shape\":\"\"}},\"name\":\"Western Dress\",\"offsetgroup\":\"Western Dress\",\"orientation\":\"v\",\"showlegend\":true,\"textposition\":\"outside\",\"texttemplate\":\"%{y:.2f}\",\"x\":[\"Western Dress\"],\"xaxis\":\"x\",\"y\":[765.1615068709525],\"yaxis\":\"y\",\"type\":\"bar\",\"textfont\":{\"size\":12}},{\"alignmentgroup\":\"True\",\"hovertemplate\":\"\\u4ea7\\u54c1\\u7c7b\\u522b=%{x}\\u003cbr\\u003e\\u5e73\\u5747\\u9500\\u552e\\u989d (Amount)=%{y}\\u003cextra\\u003e\\u003c\\u002fextra\\u003e\",\"legendgroup\":\"kurta\",\"marker\":{\"color\":\"#00cc96\",\"pattern\":{\"shape\":\"\"}},\"name\":\"kurta\",\"offsetgroup\":\"kurta\",\"orientation\":\"v\",\"showlegend\":true,\"textposition\":\"outside\",\"texttemplate\":\"%{y:.2f}\",\"x\":[\"kurta\"],\"xaxis\":\"x\",\"y\":[456.5067198094636],\"yaxis\":\"y\",\"type\":\"bar\",\"textfont\":{\"size\":12}}],                        {\"template\":{\"data\":{\"barpolar\":[{\"marker\":{\"line\":{\"color\":\"white\",\"width\":0.5},\"pattern\":{\"fillmode\":\"overlay\",\"size\":10,\"solidity\":0.2}},\"type\":\"barpolar\"}],\"bar\":[{\"error_x\":{\"color\":\"#2a3f5f\"},\"error_y\":{\"color\":\"#2a3f5f\"},\"marker\":{\"line\":{\"color\":\"white\",\"width\":0.5},\"pattern\":{\"fillmode\":\"overlay\",\"size\":10,\"solidity\":0.2}},\"type\":\"bar\"}],\"carpet\":[{\"aaxis\":{\"endlinecolor\":\"#2a3f5f\",\"gridcolor\":\"#C8D4E3\",\"linecolor\":\"#C8D4E3\",\"minorgridcolor\":\"#C8D4E3\",\"startlinecolor\":\"#2a3f5f\"},\"baxis\":{\"endlinecolor\":\"#2a3f5f\",\"gridcolor\":\"#C8D4E3\",\"linecolor\":\"#C8D4E3\",\"minorgridcolor\":\"#C8D4E3\",\"startlinecolor\":\"#2a3f5f\"},\"type\":\"carpet\"}],\"choropleth\":[{\"colorbar\":{\"outlinewidth\":0,\"ticks\":\"\"},\"type\":\"choropleth\"}],\"contourcarpet\":[{\"colorbar\":{\"outlinewidth\":0,\"ticks\":\"\"},\"type\":\"contourcarpet\"}],\"contour\":[{\"colorbar\":{\"outlinewidth\":0,\"ticks\":\"\"},\"colorscale\":[[0.0,\"#0d0887\"],[0.1111111111111111,\"#46039f\"],[0.2222222222222222,\"#7201a8\"],[0.3333333333333333,\"#9c179e\"],[0.4444444444444444,\"#bd3786\"],[0.5555555555555556,\"#d8576b\"],[0.6666666666666666,\"#ed7953\"],[0.7777777777777778,\"#fb9f3a\"],[0.8888888888888888,\"#fdca26\"],[1.0,\"#f0f921\"]],\"type\":\"contour\"}],\"heatmapgl\":[{\"colorbar\":{\"outlinewidth\":0,\"ticks\":\"\"},\"colorscale\":[[0.0,\"#0d0887\"],[0.1111111111111111,\"#46039f\"],[0.2222222222222222,\"#7201a8\"],[0.3333333333333333,\"#9c179e\"],[0.4444444444444444,\"#bd3786\"],[0.5555555555555556,\"#d8576b\"],[0.6666666666666666,\"#ed7953\"],[0.7777777777777778,\"#fb9f3a\"],[0.8888888888888888,\"#fdca26\"],[1.0,\"#f0f921\"]],\"type\":\"heatmapgl\"}],\"heatmap\":[{\"colorbar\":{\"outlinewidth\":0,\"ticks\":\"\"},\"colorscale\":[[0.0,\"#0d0887\"],[0.1111111111111111,\"#46039f\"],[0.2222222222222222,\"#7201a8\"],[0.3333333333333333,\"#9c179e\"],[0.4444444444444444,\"#bd3786\"],[0.5555555555555556,\"#d8576b\"],[0.6666666666666666,\"#ed7953\"],[0.7777777777777778,\"#fb9f3a\"],[0.8888888888888888,\"#fdca26\"],[1.0,\"#f0f921\"]],\"type\":\"heatmap\"}],\"histogram2dcontour\":[{\"colorbar\":{\"outlinewidth\":0,\"ticks\":\"\"},\"colorscale\":[[0.0,\"#0d0887\"],[0.1111111111111111,\"#46039f\"],[0.2222222222222222,\"#7201a8\"],[0.3333333333333333,\"#9c179e\"],[0.4444444444444444,\"#bd3786\"],[0.5555555555555556,\"#d8576b\"],[0.6666666666666666,\"#ed7953\"],[0.7777777777777778,\"#fb9f3a\"],[0.8888888888888888,\"#fdca26\"],[1.0,\"#f0f921\"]],\"type\":\"histogram2dcontour\"}],\"histogram2d\":[{\"colorbar\":{\"outlinewidth\":0,\"ticks\":\"\"},\"colorscale\":[[0.0,\"#0d0887\"],[0.1111111111111111,\"#46039f\"],[0.2222222222222222,\"#7201a8\"],[0.3333333333333333,\"#9c179e\"],[0.4444444444444444,\"#bd3786\"],[0.5555555555555556,\"#d8576b\"],[0.6666666666666666,\"#ed7953\"],[0.7777777777777778,\"#fb9f3a\"],[0.8888888888888888,\"#fdca26\"],[1.0,\"#f0f921\"]],\"type\":\"histogram2d\"}],\"histogram\":[{\"marker\":{\"pattern\":{\"fillmode\":\"overlay\",\"size\":10,\"solidity\":0.2}},\"type\":\"histogram\"}],\"mesh3d\":[{\"colorbar\":{\"outlinewidth\":0,\"ticks\":\"\"},\"type\":\"mesh3d\"}],\"parcoords\":[{\"line\":{\"colorbar\":{\"outlinewidth\":0,\"ticks\":\"\"}},\"type\":\"parcoords\"}],\"pie\":[{\"automargin\":true,\"type\":\"pie\"}],\"scatter3d\":[{\"line\":{\"colorbar\":{\"outlinewidth\":0,\"ticks\":\"\"}},\"marker\":{\"colorbar\":{\"outlinewidth\":0,\"ticks\":\"\"}},\"type\":\"scatter3d\"}],\"scattercarpet\":[{\"marker\":{\"colorbar\":{\"outlinewidth\":0,\"ticks\":\"\"}},\"type\":\"scattercarpet\"}],\"scattergeo\":[{\"marker\":{\"colorbar\":{\"outlinewidth\":0,\"ticks\":\"\"}},\"type\":\"scattergeo\"}],\"scattergl\":[{\"marker\":{\"colorbar\":{\"outlinewidth\":0,\"ticks\":\"\"}},\"type\":\"scattergl\"}],\"scattermapbox\":[{\"marker\":{\"colorbar\":{\"outlinewidth\":0,\"ticks\":\"\"}},\"type\":\"scattermapbox\"}],\"scatterpolargl\":[{\"marker\":{\"colorbar\":{\"outlinewidth\":0,\"ticks\":\"\"}},\"type\":\"scatterpolargl\"}],\"scatterpolar\":[{\"marker\":{\"colorbar\":{\"outlinewidth\":0,\"ticks\":\"\"}},\"type\":\"scatterpolar\"}],\"scatter\":[{\"fillpattern\":{\"fillmode\":\"overlay\",\"size\":10,\"solidity\":0.2},\"type\":\"scatter\"}],\"scatterternary\":[{\"marker\":{\"colorbar\":{\"outlinewidth\":0,\"ticks\":\"\"}},\"type\":\"scatterternary\"}],\"surface\":[{\"colorbar\":{\"outlinewidth\":0,\"ticks\":\"\"},\"colorscale\":[[0.0,\"#0d0887\"],[0.1111111111111111,\"#46039f\"],[0.2222222222222222,\"#7201a8\"],[0.3333333333333333,\"#9c179e\"],[0.4444444444444444,\"#bd3786\"],[0.5555555555555556,\"#d8576b\"],[0.6666666666666666,\"#ed7953\"],[0.7777777777777778,\"#fb9f3a\"],[0.8888888888888888,\"#fdca26\"],[1.0,\"#f0f921\"]],\"type\":\"surface\"}],\"table\":[{\"cells\":{\"fill\":{\"color\":\"#EBF0F8\"},\"line\":{\"color\":\"white\"}},\"header\":{\"fill\":{\"color\":\"#C8D4E3\"},\"line\":{\"color\":\"white\"}},\"type\":\"table\"}]},\"layout\":{\"annotationdefaults\":{\"arrowcolor\":\"#2a3f5f\",\"arrowhead\":0,\"arrowwidth\":1},\"autotypenumbers\":\"strict\",\"coloraxis\":{\"colorbar\":{\"outlinewidth\":0,\"ticks\":\"\"}},\"colorscale\":{\"diverging\":[[0,\"#8e0152\"],[0.1,\"#c51b7d\"],[0.2,\"#de77ae\"],[0.3,\"#f1b6da\"],[0.4,\"#fde0ef\"],[0.5,\"#f7f7f7\"],[0.6,\"#e6f5d0\"],[0.7,\"#b8e186\"],[0.8,\"#7fbc41\"],[0.9,\"#4d9221\"],[1,\"#276419\"]],\"sequential\":[[0.0,\"#0d0887\"],[0.1111111111111111,\"#46039f\"],[0.2222222222222222,\"#7201a8\"],[0.3333333333333333,\"#9c179e\"],[0.4444444444444444,\"#bd3786\"],[0.5555555555555556,\"#d8576b\"],[0.6666666666666666,\"#ed7953\"],[0.7777777777777778,\"#fb9f3a\"],[0.8888888888888888,\"#fdca26\"],[1.0,\"#f0f921\"]],\"sequentialminus\":[[0.0,\"#0d0887\"],[0.1111111111111111,\"#46039f\"],[0.2222222222222222,\"#7201a8\"],[0.3333333333333333,\"#9c179e\"],[0.4444444444444444,\"#bd3786\"],[0.5555555555555556,\"#d8576b\"],[0.6666666666666666,\"#ed7953\"],[0.7777777777777778,\"#fb9f3a\"],[0.8888888888888888,\"#fdca26\"],[1.0,\"#f0f921\"]]},\"colorway\":[\"#636efa\",\"#EF553B\",\"#00cc96\",\"#ab63fa\",\"#FFA15A\",\"#19d3f3\",\"#FF6692\",\"#B6E880\",\"#FF97FF\",\"#FECB52\"],\"font\":{\"color\":\"#2a3f5f\"},\"geo\":{\"bgcolor\":\"white\",\"lakecolor\":\"white\",\"landcolor\":\"white\",\"showlakes\":true,\"showland\":true,\"subunitcolor\":\"#C8D4E3\"},\"hoverlabel\":{\"align\":\"left\"},\"hovermode\":\"closest\",\"mapbox\":{\"style\":\"light\"},\"paper_bgcolor\":\"white\",\"plot_bgcolor\":\"white\",\"polar\":{\"angularaxis\":{\"gridcolor\":\"#EBF0F8\",\"linecolor\":\"#EBF0F8\",\"ticks\":\"\"},\"bgcolor\":\"white\",\"radialaxis\":{\"gridcolor\":\"#EBF0F8\",\"linecolor\":\"#EBF0F8\",\"ticks\":\"\"}},\"scene\":{\"xaxis\":{\"backgroundcolor\":\"white\",\"gridcolor\":\"#DFE8F3\",\"gridwidth\":2,\"linecolor\":\"#EBF0F8\",\"showbackground\":true,\"ticks\":\"\",\"zerolinecolor\":\"#EBF0F8\"},\"yaxis\":{\"backgroundcolor\":\"white\",\"gridcolor\":\"#DFE8F3\",\"gridwidth\":2,\"linecolor\":\"#EBF0F8\",\"showbackground\":true,\"ticks\":\"\",\"zerolinecolor\":\"#EBF0F8\"},\"zaxis\":{\"backgroundcolor\":\"white\",\"gridcolor\":\"#DFE8F3\",\"gridwidth\":2,\"linecolor\":\"#EBF0F8\",\"showbackground\":true,\"ticks\":\"\",\"zerolinecolor\":\"#EBF0F8\"}},\"shapedefaults\":{\"line\":{\"color\":\"#2a3f5f\"}},\"ternary\":{\"aaxis\":{\"gridcolor\":\"#DFE8F3\",\"linecolor\":\"#A2B1C6\",\"ticks\":\"\"},\"baxis\":{\"gridcolor\":\"#DFE8F3\",\"linecolor\":\"#A2B1C6\",\"ticks\":\"\"},\"bgcolor\":\"white\",\"caxis\":{\"gridcolor\":\"#DFE8F3\",\"linecolor\":\"#A2B1C6\",\"ticks\":\"\"}},\"title\":{\"x\":0.05},\"xaxis\":{\"automargin\":true,\"gridcolor\":\"#EBF0F8\",\"linecolor\":\"#EBF0F8\",\"ticks\":\"\",\"title\":{\"standoff\":15},\"zerolinecolor\":\"#EBF0F8\",\"zerolinewidth\":2},\"yaxis\":{\"automargin\":true,\"gridcolor\":\"#EBF0F8\",\"linecolor\":\"#EBF0F8\",\"ticks\":\"\",\"title\":{\"standoff\":15},\"zerolinecolor\":\"#EBF0F8\",\"zerolinewidth\":2}}},\"xaxis\":{\"anchor\":\"y\",\"domain\":[0.0,1.0],\"title\":{\"text\":\"\\u4ea7\\u54c1\\u7c7b\\u522b\",\"font\":{\"size\":14}},\"categoryorder\":\"array\",\"categoryarray\":[\"Set\",\"Western Dress\",\"kurta\"]},\"yaxis\":{\"anchor\":\"x\",\"domain\":[0.0,1.0],\"title\":{\"text\":\"\\u5e73\\u5747\\u9500\\u552e\\u989d (Amount)\",\"font\":{\"size\":14}}},\"legend\":{\"title\":{\"text\":\"\\u4ea7\\u54c1\\u7c7b\\u522b\"},\"tracegroupgap\":0},\"title\":{\"text\":\"\\u5404\\u4ea7\\u54c1\\u7c7b\\u522b\\u5e73\\u5747\\u9500\\u552e\\u989d\\u5bf9\\u6bd4\",\"font\":{\"size\":18}},\"barmode\":\"relative\",\"width\":600,\"height\":500,\"showlegend\":false},                        {\"responsive\": true}                    ).then(function(){\n",
       "                            \n",
       "var gd = document.getElementById('4ec8512b-6403-4da1-a68b-0270fb6b4961');\n",
       "var x = new MutationObserver(function (mutations, observer) {{\n",
       "        var display = window.getComputedStyle(gd).display;\n",
       "        if (!display || display === 'none') {{\n",
       "            console.log([gd, 'removed!']);\n",
       "            Plotly.purge(gd);\n",
       "            observer.disconnect();\n",
       "        }}\n",
       "}});\n",
       "\n",
       "// Listen for the removal of the full notebook cells\n",
       "var notebookContainer = gd.closest('#notebook-container');\n",
       "if (notebookContainer) {{\n",
       "    x.observe(notebookContainer, {childList: true});\n",
       "}}\n",
       "\n",
       "// Listen for the clearing of the current output cell\n",
       "var outputEl = gd.closest('.output');\n",
       "if (outputEl) {{\n",
       "    x.observe(outputEl, {childList: true});\n",
       "}}\n",
       "\n",
       "                        })                };                });            </script>        </div>"
      ]
     },
     "metadata": {},
     "output_type": "display_data"
    }
   ],
   "source": [
    "import plotly.graph_objects as go\n",
    "import plotly.express as px\n",
    "# 1. 准备数据 \n",
    "category_means = non遗_products.groupby('Category')['Amount'].mean().sort_values(ascending=False).reset_index()\n",
    "\n",
    "# 2. 使用 Plotly Express 创建图表 \n",
    "fig = px.bar(\n",
    "    category_means,\n",
    "    x='Category',\n",
    "    y='Amount',\n",
    "    color='Category',\n",
    "    text_auto='.2f',\n",
    "    labels={'Category': '产品类别', 'Amount': '平均销售额 (Amount)'},\n",
    "    title='各产品类别平均销售额对比'\n",
    ")\n",
    "\n",
    "# --- 调整布局以改变柱体宽高比 ---\n",
    "# 3. 美化和定制图表布局\n",
    "fig.update_layout(\n",
    "    # 通过减小宽度和增加高度来让柱体显得更高更窄\n",
    "    width=600,   # <-- 减小图表宽度\n",
    "    height=500,  # <-- 可以适度增加图表高度\n",
    "    \n",
    "    xaxis_title_font_size=14,\n",
    "    yaxis_title_font_size=14,\n",
    "    title_font_size=18,\n",
    "    template='plotly_white',\n",
    "    showlegend=False\n",
    ")\n",
    "\n",
    "# 4. 调整文本标签位置 (与之前相同)\n",
    "fig.update_traces(\n",
    "    textposition='outside',\n",
    "    textfont_size=12\n",
    ")\n",
    "\n",
    "# 5. 在 Jupyter 中显示交互式图表\n",
    "fig.show()"
   ]
  },
  {
   "cell_type": "code",
   "execution_count": null,
   "id": "7af4a168-8b26-413e-b307-51b2e637edf1",
   "metadata": {},
   "outputs": [],
   "source": []
  }
 ],
 "metadata": {
  "kernelspec": {
   "display_name": "Python 3 (ipykernel)",
   "language": "python",
   "name": "python3"
  },
  "language_info": {
   "codemirror_mode": {
    "name": "ipython",
    "version": 3
   },
   "file_extension": ".py",
   "mimetype": "text/x-python",
   "name": "python",
   "nbconvert_exporter": "python",
   "pygments_lexer": "ipython3",
   "version": "3.13.5"
  }
 },
 "nbformat": 4,
 "nbformat_minor": 5
}
